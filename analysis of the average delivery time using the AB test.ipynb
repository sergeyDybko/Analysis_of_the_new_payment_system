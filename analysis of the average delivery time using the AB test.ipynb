{
 "cells": [
  {
   "cell_type": "markdown",
   "id": "a073d1a1-9ba0-4e15-b91f-f4c439853bd1",
   "metadata": {},
   "source": [
    "<b>Анализ среднего времени заказов ресторана при помощи A/B тестов </b>"
   ]
  },
  {
   "cell_type": "markdown",
   "id": "13d0e020-754e-4dc5-83fa-66fd72f5ce9b",
   "metadata": {},
   "source": [
    "Импортирую необходимые библиоотеи"
   ]
  },
  {
   "cell_type": "code",
   "execution_count": 9,
   "id": "d4eb4624-d8dc-4c04-aff7-4729dba78bca",
   "metadata": {},
   "outputs": [],
   "source": [
    "import pandas as pd\n",
    "import numpy as np\n",
    "import seaborn as sns\n",
    "import matplotlib.pyplot as plt\n",
    "import scipy.stats as ss\n",
    "sns.set(style='whitegrid')"
   ]
  },
  {
   "cell_type": "markdown",
   "id": "cce9327f-a5ee-426e-8e3b-050def62d93b",
   "metadata": {},
   "source": [
    "Произвожу считывание данных и разведывательный анализ данных<br>\n",
    "Описание данных<br>\n",
    "order_id - id заказа<br>\n",
    "delivery_time - время доставки в минутах<br>\n",
    "district - район доставки<br>\n",
    "experiment_group - экспериментальная группа<br>"
   ]
  },
  {
   "cell_type": "code",
   "execution_count": 15,
   "id": "db3843e9-7e17-4fb5-856f-c2d773dfe52b",
   "metadata": {},
   "outputs": [
    {
     "data": {
      "text/html": [
       "<div>\n",
       "<style scoped>\n",
       "    .dataframe tbody tr th:only-of-type {\n",
       "        vertical-align: middle;\n",
       "    }\n",
       "\n",
       "    .dataframe tbody tr th {\n",
       "        vertical-align: top;\n",
       "    }\n",
       "\n",
       "    .dataframe thead th {\n",
       "        text-align: right;\n",
       "    }\n",
       "</style>\n",
       "<table border=\"1\" class=\"dataframe\">\n",
       "  <thead>\n",
       "    <tr style=\"text-align: right;\">\n",
       "      <th></th>\n",
       "      <th>order_id</th>\n",
       "      <th>delivery_time</th>\n",
       "      <th>district</th>\n",
       "      <th>experiment_group</th>\n",
       "    </tr>\n",
       "  </thead>\n",
       "  <tbody>\n",
       "    <tr>\n",
       "      <th>0</th>\n",
       "      <td>3159</td>\n",
       "      <td>44.0</td>\n",
       "      <td>Purlieus</td>\n",
       "      <td>control</td>\n",
       "    </tr>\n",
       "    <tr>\n",
       "      <th>1</th>\n",
       "      <td>10426</td>\n",
       "      <td>51.0</td>\n",
       "      <td>Purlieus</td>\n",
       "      <td>control</td>\n",
       "    </tr>\n",
       "    <tr>\n",
       "      <th>2</th>\n",
       "      <td>9155</td>\n",
       "      <td>46.0</td>\n",
       "      <td>Purlieus</td>\n",
       "      <td>control</td>\n",
       "    </tr>\n",
       "    <tr>\n",
       "      <th>3</th>\n",
       "      <td>10699</td>\n",
       "      <td>34.0</td>\n",
       "      <td>Purlieus</td>\n",
       "      <td>control</td>\n",
       "    </tr>\n",
       "    <tr>\n",
       "      <th>4</th>\n",
       "      <td>10061</td>\n",
       "      <td>43.0</td>\n",
       "      <td>Purlieus</td>\n",
       "      <td>control</td>\n",
       "    </tr>\n",
       "  </tbody>\n",
       "</table>\n",
       "</div>"
      ],
      "text/plain": [
       "   order_id  delivery_time  district experiment_group\n",
       "0      3159           44.0  Purlieus          control\n",
       "1     10426           51.0  Purlieus          control\n",
       "2      9155           46.0  Purlieus          control\n",
       "3     10699           34.0  Purlieus          control\n",
       "4     10061           43.0  Purlieus          control"
      ]
     },
     "execution_count": 15,
     "metadata": {},
     "output_type": "execute_result"
    }
   ],
   "source": [
    "df=pd.read_csv('experiment_lesson_4.csv')\n",
    "df.head(5)"
   ]
  },
  {
   "cell_type": "code",
   "execution_count": 3,
   "id": "34eb24df-a8af-4513-9a0e-b971fb40de52",
   "metadata": {},
   "outputs": [
    {
     "data": {
      "text/html": [
       "<div>\n",
       "<style scoped>\n",
       "    .dataframe tbody tr th:only-of-type {\n",
       "        vertical-align: middle;\n",
       "    }\n",
       "\n",
       "    .dataframe tbody tr th {\n",
       "        vertical-align: top;\n",
       "    }\n",
       "\n",
       "    .dataframe thead th {\n",
       "        text-align: right;\n",
       "    }\n",
       "</style>\n",
       "<table border=\"1\" class=\"dataframe\">\n",
       "  <thead>\n",
       "    <tr style=\"text-align: right;\">\n",
       "      <th></th>\n",
       "      <th>order_id</th>\n",
       "      <th>delivery_time</th>\n",
       "    </tr>\n",
       "  </thead>\n",
       "  <tbody>\n",
       "    <tr>\n",
       "      <th>count</th>\n",
       "      <td>20196.000000</td>\n",
       "      <td>20196.000000</td>\n",
       "    </tr>\n",
       "    <tr>\n",
       "      <th>mean</th>\n",
       "      <td>11103.503565</td>\n",
       "      <td>42.054169</td>\n",
       "    </tr>\n",
       "    <tr>\n",
       "      <th>std</th>\n",
       "      <td>5835.424404</td>\n",
       "      <td>10.382196</td>\n",
       "    </tr>\n",
       "    <tr>\n",
       "      <th>min</th>\n",
       "      <td>1000.000000</td>\n",
       "      <td>10.000000</td>\n",
       "    </tr>\n",
       "    <tr>\n",
       "      <th>25%</th>\n",
       "      <td>6048.750000</td>\n",
       "      <td>35.000000</td>\n",
       "    </tr>\n",
       "    <tr>\n",
       "      <th>50%</th>\n",
       "      <td>11109.500000</td>\n",
       "      <td>42.000000</td>\n",
       "    </tr>\n",
       "    <tr>\n",
       "      <th>75%</th>\n",
       "      <td>16158.250000</td>\n",
       "      <td>49.000000</td>\n",
       "    </tr>\n",
       "    <tr>\n",
       "      <th>max</th>\n",
       "      <td>21207.000000</td>\n",
       "      <td>83.000000</td>\n",
       "    </tr>\n",
       "  </tbody>\n",
       "</table>\n",
       "</div>"
      ],
      "text/plain": [
       "           order_id  delivery_time\n",
       "count  20196.000000   20196.000000\n",
       "mean   11103.503565      42.054169\n",
       "std     5835.424404      10.382196\n",
       "min     1000.000000      10.000000\n",
       "25%     6048.750000      35.000000\n",
       "50%    11109.500000      42.000000\n",
       "75%    16158.250000      49.000000\n",
       "max    21207.000000      83.000000"
      ]
     },
     "execution_count": 3,
     "metadata": {},
     "output_type": "execute_result"
    }
   ],
   "source": [
    "df.describe()"
   ]
  },
  {
   "cell_type": "code",
   "execution_count": 19,
   "id": "a77a35b8-a2e8-492a-9632-a739e4368e7b",
   "metadata": {},
   "outputs": [
    {
     "data": {
      "text/plain": [
       "order_id              int64\n",
       "delivery_time       float64\n",
       "district             object\n",
       "experiment_group     object\n",
       "dtype: object"
      ]
     },
     "execution_count": 19,
     "metadata": {},
     "output_type": "execute_result"
    }
   ],
   "source": [
    "df.dtypes"
   ]
  },
  {
   "cell_type": "code",
   "execution_count": 25,
   "id": "816af294-c257-4ae7-87b1-aef4b894fd69",
   "metadata": {},
   "outputs": [
    {
     "name": "stdout",
     "output_type": "stream",
     "text": [
      "<class 'pandas.core.frame.DataFrame'>\n",
      "RangeIndex: 20196 entries, 0 to 20195\n",
      "Data columns (total 4 columns):\n",
      " #   Column            Non-Null Count  Dtype  \n",
      "---  ------            --------------  -----  \n",
      " 0   order_id          20196 non-null  int64  \n",
      " 1   delivery_time     20196 non-null  float64\n",
      " 2   district          20196 non-null  object \n",
      " 3   experiment_group  20196 non-null  object \n",
      "dtypes: float64(1), int64(1), object(2)\n",
      "memory usage: 631.3+ KB\n"
     ]
    }
   ],
   "source": [
    "df.info()"
   ]
  },
  {
   "cell_type": "code",
   "execution_count": 43,
   "id": "dfae4fe5-bf20-4a0d-a148-8bd47fbcd51f",
   "metadata": {},
   "outputs": [
    {
     "data": {
      "text/html": [
       "<div>\n",
       "<style scoped>\n",
       "    .dataframe tbody tr th:only-of-type {\n",
       "        vertical-align: middle;\n",
       "    }\n",
       "\n",
       "    .dataframe tbody tr th {\n",
       "        vertical-align: top;\n",
       "    }\n",
       "\n",
       "    .dataframe thead th {\n",
       "        text-align: right;\n",
       "    }\n",
       "</style>\n",
       "<table border=\"1\" class=\"dataframe\">\n",
       "  <thead>\n",
       "    <tr style=\"text-align: right;\">\n",
       "      <th></th>\n",
       "      <th>order_id</th>\n",
       "      <th>delivery_time</th>\n",
       "      <th>district</th>\n",
       "      <th>experiment_group</th>\n",
       "    </tr>\n",
       "  </thead>\n",
       "  <tbody>\n",
       "    <tr>\n",
       "      <th>0</th>\n",
       "      <td>3159</td>\n",
       "      <td>44.0</td>\n",
       "      <td>Purlieus</td>\n",
       "      <td>control</td>\n",
       "    </tr>\n",
       "    <tr>\n",
       "      <th>1</th>\n",
       "      <td>10426</td>\n",
       "      <td>51.0</td>\n",
       "      <td>Purlieus</td>\n",
       "      <td>control</td>\n",
       "    </tr>\n",
       "    <tr>\n",
       "      <th>2</th>\n",
       "      <td>9155</td>\n",
       "      <td>46.0</td>\n",
       "      <td>Purlieus</td>\n",
       "      <td>control</td>\n",
       "    </tr>\n",
       "    <tr>\n",
       "      <th>3</th>\n",
       "      <td>10699</td>\n",
       "      <td>34.0</td>\n",
       "      <td>Purlieus</td>\n",
       "      <td>control</td>\n",
       "    </tr>\n",
       "    <tr>\n",
       "      <th>4</th>\n",
       "      <td>10061</td>\n",
       "      <td>43.0</td>\n",
       "      <td>Purlieus</td>\n",
       "      <td>control</td>\n",
       "    </tr>\n",
       "    <tr>\n",
       "      <th>...</th>\n",
       "      <td>...</td>\n",
       "      <td>...</td>\n",
       "      <td>...</td>\n",
       "      <td>...</td>\n",
       "    </tr>\n",
       "    <tr>\n",
       "      <th>20191</th>\n",
       "      <td>14561</td>\n",
       "      <td>42.0</td>\n",
       "      <td>Suburb</td>\n",
       "      <td>test</td>\n",
       "    </tr>\n",
       "    <tr>\n",
       "      <th>20192</th>\n",
       "      <td>12015</td>\n",
       "      <td>32.0</td>\n",
       "      <td>Suburb</td>\n",
       "      <td>test</td>\n",
       "    </tr>\n",
       "    <tr>\n",
       "      <th>20193</th>\n",
       "      <td>20077</td>\n",
       "      <td>23.0</td>\n",
       "      <td>Purlieus</td>\n",
       "      <td>test</td>\n",
       "    </tr>\n",
       "    <tr>\n",
       "      <th>20194</th>\n",
       "      <td>14861</td>\n",
       "      <td>41.0</td>\n",
       "      <td>Central</td>\n",
       "      <td>test</td>\n",
       "    </tr>\n",
       "    <tr>\n",
       "      <th>20195</th>\n",
       "      <td>13501</td>\n",
       "      <td>41.0</td>\n",
       "      <td>Central</td>\n",
       "      <td>test</td>\n",
       "    </tr>\n",
       "  </tbody>\n",
       "</table>\n",
       "<p>20196 rows × 4 columns</p>\n",
       "</div>"
      ],
      "text/plain": [
       "       order_id  delivery_time  district experiment_group\n",
       "0          3159           44.0  Purlieus          control\n",
       "1         10426           51.0  Purlieus          control\n",
       "2          9155           46.0  Purlieus          control\n",
       "3         10699           34.0  Purlieus          control\n",
       "4         10061           43.0  Purlieus          control\n",
       "...         ...            ...       ...              ...\n",
       "20191     14561           42.0    Suburb             test\n",
       "20192     12015           32.0    Suburb             test\n",
       "20193     20077           23.0  Purlieus             test\n",
       "20194     14861           41.0   Central             test\n",
       "20195     13501           41.0   Central             test\n",
       "\n",
       "[20196 rows x 4 columns]"
      ]
     },
     "execution_count": 43,
     "metadata": {},
     "output_type": "execute_result"
    }
   ],
   "source": [
    "df.drop_duplicates()"
   ]
  },
  {
   "cell_type": "code",
   "execution_count": 101,
   "id": "669edb48-24b4-4127-8b60-2e934941d460",
   "metadata": {},
   "outputs": [],
   "source": [
    "dft=df.query('experiment_group==\"test\"')\n",
    "dfc=df.query('experiment_group==\"control\"')#тестовую и контрольные группы записываем в разные DataSet"
   ]
  },
  {
   "cell_type": "code",
   "execution_count": 109,
   "id": "aaa886a9-682e-47b7-852d-1d1629c019b2",
   "metadata": {},
   "outputs": [
    {
     "data": {
      "text/plain": [
       "<bound method DataFrame.info of        order_id  delivery_time  district experiment_group\n",
       "0          3159           44.0  Purlieus          control\n",
       "1         10426           51.0  Purlieus          control\n",
       "2          9155           46.0  Purlieus          control\n",
       "3         10699           34.0  Purlieus          control\n",
       "4         10061           43.0  Purlieus          control\n",
       "...         ...            ...       ...              ...\n",
       "10087      2708           23.0   Central          control\n",
       "10088      3918           45.0   Central          control\n",
       "10089      9544           41.0    Suburb          control\n",
       "10090      1101           38.0   Central          control\n",
       "10091      7676           55.0   Central          control\n",
       "\n",
       "[10092 rows x 4 columns]>"
      ]
     },
     "execution_count": 109,
     "metadata": {},
     "output_type": "execute_result"
    }
   ],
   "source": [
    "dfc.info"
   ]
  },
  {
   "cell_type": "markdown",
   "id": "7d4de268-6442-4802-a024-3350df154137",
   "metadata": {},
   "source": [
    "Произвожу визуализацию данных для контрольной и тестовой группы"
   ]
  },
  {
   "cell_type": "code",
   "execution_count": 61,
   "id": "a9f2c5c2-4b4b-477d-8ee2-f9f9a4a00d59",
   "metadata": {},
   "outputs": [
    {
     "data": {
      "image/png": "[encoded data removed]",
      "text/plain": [
       "<Figure size 640x480 with 1 Axes>"
      ]
     },
     "metadata": {},
     "output_type": "display_data"
    }
   ],
   "source": [
    "sns.histplot(data=dft,hue='district', x='delivery_time', bins=21) \n",
    "plt.title('Гистограмма распределения времени заказа \\n \\n Тестовая группа\\n') \n",
    "plt.xlabel('Время доставки')\n",
    "plt.ylabel('Количество')\n",
    "plt.show()\n"
   ]
  },
  {
   "cell_type": "code",
   "execution_count": 65,
   "id": "37cd10c0-33de-4526-b4fa-602da21c2a40",
   "metadata": {},
   "outputs": [
    {
     "data": {
      "image/png": "[encoded data removed]",
      "text/plain": [
       "<Figure size 640x480 with 1 Axes>"
      ]
     },
     "metadata": {},
     "output_type": "display_data"
    }
   ],
   "source": [
    "sns.histplot(data=dfc,hue='district', x='delivery_time', bins=21) \n",
    "plt.title('Гистограмма распределения времени заказа \\n \\n Контрольная группа\\n') \n",
    "plt.xlabel('Время доставки')\n",
    "plt.ylabel('Количество')\n",
    "plt.show()"
   ]
  },
  {
   "cell_type": "markdown",
   "id": "3b2b6c4c-1c21-40bc-a4c4-4b4420d24872",
   "metadata": {},
   "source": [
    "Для анализа данных выберем следующее метрики: среднее время доставки AVG(delivery_time)<br>\n",
    "Сформулируем нулевую и альтернотивную гипотезу:<br>\n",
    "Нулевая гипотеза (H0): Разницы между средним временем доставки в тестовой и контрольной группе нет<br>\n",
    "Альтернативная гипотеза (H1): Разница между средним временем доставки в тестовой и контрольной группе есть"
   ]
  },
  {
   "cell_type": "markdown",
   "id": "4aefacf8-bf09-4f0f-bac8-f69217c1e8ac",
   "metadata": {},
   "source": [
    "Для применения T-теста стьюдента требуются следующие условия:<br>\n",
    "1.Нормальный характер распределения изучаемых данных в обеих сравниваемых группах. Перед применением критерия Стьюдента нужно проверить нормальность распределения.<br>  \n",
    "2.Равенство дисперсий сравниваемых групп"
   ]
  },
  {
   "cell_type": "markdown",
   "id": "045ace89-c1ca-4264-9709-8d76ce2fcb4a",
   "metadata": {},
   "source": [
    "Произведем проверку нормальности распределения времени доставки контрольной и тестовой группы:"
   ]
  },
  {
   "cell_type": "code",
   "execution_count": 93,
   "id": "340601e5-d9a8-4b4c-bd35-a094eec8e5c0",
   "metadata": {},
   "outputs": [
    {
     "name": "stdout",
     "output_type": "stream",
     "text": [
      "pvalue=0.8809549607809654,распределение контрольной группы является нормальным\n"
     ]
    }
   ],
   "source": [
    "statistic,pvalue=ss.normaltest(dfc['delivery_time'])\n",
    "if pvalue>=0.05:\n",
    "    print(f'pvalue={pvalue},распределение контрольной группы является нормальным')\n",
    "else:\n",
    "    print(f'(pvalue={pvalue},распределение контрольной группы является не нормальным')"
   ]
  },
  {
   "cell_type": "code",
   "execution_count": 95,
   "id": "99c29cbe-a1e6-4766-b7bd-9d4d369c4f2e",
   "metadata": {},
   "outputs": [
    {
     "name": "stdout",
     "output_type": "stream",
     "text": [
      "(pvalue=0.02983483685333173,распределение тестовой группы является не нормальным\n"
     ]
    }
   ],
   "source": [
    "statistic,pvalue=ss.normaltest(dft['delivery_time'])\n",
    "if pvalue>=0.05:\n",
    "    print(f'pvalue={pvalue},распределение тестовой группы является нормальным')\n",
    "else:\n",
    "    print(f'(pvalue={pvalue},распределение тестовой группы является не нормальным')"
   ]
  },
  {
   "cell_type": "markdown",
   "id": "d05285a3-8d01-4bd8-a214-95068b23db77",
   "metadata": {},
   "source": [
    "Распределение тестовой группы не является нормальным, но выборка достаточна большая, более 30 следовательно можно использовать T-тесть Стюдента"
   ]
  },
  {
   "cell_type": "markdown",
   "id": "593150ee-d085-4dd0-87b7-1646b61fe8f9",
   "metadata": {},
   "source": [
    "Проверим равенство дисперсий контрольной и тестовой группы, для этогоприменим тест Левена"
   ]
  },
  {
   "cell_type": "code",
   "execution_count": 124,
   "id": "495adfad-91c0-408d-a389-2aeb90fb3fbb",
   "metadata": {},
   "outputs": [
    {
     "name": "stdout",
     "output_type": "stream",
     "text": [
      "pvalue=0.6031844931083392,дисперсия в обоих группах равна, можно произвести Т-тест\n"
     ]
    }
   ],
   "source": [
    "statistic,pvalue=ss.levene(dfc['delivery_time'],dft['delivery_time'])\n",
    "if pvalue>=0.05:\n",
    "    print(f'pvalue={pvalue},дисперсия в обоих группах равна, можно произвести Т-тест')\n",
    "else:\n",
    "    print(f'(pvalue={pvalue},дисперсия в обоих группах не равна')"
   ]
  },
  {
   "cell_type": "code",
   "execution_count": null,
   "id": "ed829bd5-e657-4fb5-99c6-20a1814021e2",
   "metadata": {},
   "outputs": [],
   "source": [
    "Проверим Н0 с помощью Т-теста:"
   ]
  },
  {
   "cell_type": "code",
   "execution_count": 130,
   "id": "c1ecad05-e4d5-4be9-b867-f07db4f5fa53",
   "metadata": {},
   "outputs": [
    {
     "name": "stdout",
     "output_type": "stream",
     "text": [
      "pvalue=0.0,нулевая теория подтверждается, среднее значение в двух группах статистически значимо отличаетсям\n"
     ]
    }
   ],
   "source": [
    "statistic,pvalue=ss.ttest_ind(dfc['delivery_time'],dft['delivery_time'])\n",
    "if pvalue>=0.05:\n",
    "    print(f'pvalue={pvalue},нулевая теория отвергается, среднее значение в двух группах статистически значимо не отличается')\n",
    "else:\n",
    "    print(f'pvalue={pvalue},нулевая теория подтверждается, среднее значение в двух группах статистически значимо отличаетсям')"
   ]
  },
  {
   "cell_type": "code",
   "execution_count": 148,
   "id": "6ac2a9dc-7c11-4833-b568-42e70d366f62",
   "metadata": {},
   "outputs": [
    {
     "data": {
      "text/plain": [
       "Text(0, 0.5, 'Время доставки')"
      ]
     },
     "execution_count": 148,
     "metadata": {},
     "output_type": "execute_result"
    },
    {
     "data": {
      "image/png": "[encoded data removed]",
      "text/plain": [
       "<Figure size 640x480 with 1 Axes>"
      ]
     },
     "metadata": {},
     "output_type": "display_data"
    }
   ],
   "source": [
    "sns.boxplot(data=df,y='delivery_time', x='experiment_group')\n",
    "plt.xlabel('Эксперементальная группа')\n",
    "plt.ylabel('Время доставки')"
   ]
  },
  {
   "cell_type": "code",
   "execution_count": 146,
   "id": "48e01338-8f3e-41c2-85cf-2604db913981",
   "metadata": {},
   "outputs": [
    {
     "name": "stdout",
     "output_type": "stream",
     "text": [
      "Среднее время доставки уменьшилось на 13.0%, результат является статистически значимым\n"
     ]
    }
   ],
   "source": [
    "delta=round((dfc['delivery_time'].mean()-dft['delivery_time'].mean())/dfc['delivery_time'].mean(),2)*100\n",
    "print(f'Среднее время доставки уменьшилось на {delta}%, результат является статистически значимым')"
   ]
  },
  {
   "cell_type": "code",
   "execution_count": null,
   "id": "d489771a-97e6-43da-9fc5-67138a3d64fa",
   "metadata": {},
   "outputs": [],
   "source": []
  }
 ],
 "metadata": {
  "kernelspec": {
   "display_name": "Python [conda env:base] *",
   "language": "python",
   "name": "conda-base-py"
  },
  "language_info": {
   "codemirror_mode": {
    "name": "ipython",
    "version": 3
   },
   "file_extension": ".py",
   "mimetype": "text/x-python",
   "name": "python",
   "nbconvert_exporter": "python",
   "pygments_lexer": "ipython3",
   "version": "3.12.7"
  }
 },
 "nbformat": 4,
 "nbformat_minor": 5
}
