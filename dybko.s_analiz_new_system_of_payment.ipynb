{
 "cells": [
  {
   "cell_type": "markdown",
   "id": "a0229783-dfde-4fe3-afb4-afa9cd80a3a6",
   "metadata": {},
   "source": [
    "Импортирую необходимые библиотеки"
   ]
  },
  {
   "cell_type": "code",
   "execution_count": 54,
   "id": "f16563e6-5b5e-4de8-a8c4-61fd05a399ce",
   "metadata": {},
   "outputs": [],
   "source": [
    "import pandas as pd\n",
    "import numpy as np\n",
    "import seaborn as sns\n",
    "import matplotlib.pyplot as plt\n",
    "import scipy.stats as ss\n",
    "import pingouin as pg\n",
    "sns.set(style='whitegrid')\n",
    "from datetime import datetime\n",
    "import requests\n",
    "from urllib.parse import urlencode"
   ]
  },
  {
   "cell_type": "markdown",
   "id": "9e892d25-af4b-42b7-b2df-337852792087",
   "metadata": {},
   "source": [
    "Вносим ссылки на файлы яндекс-диска"
   ]
  },
  {
   "cell_type": "code",
   "execution_count": 57,
   "id": "6a33420e-d175-4e6a-859a-cf795f577719",
   "metadata": {},
   "outputs": [],
   "source": [
    "groups_url          = 'https://disk.yandex.ru/d/UhyYx41rTt3clQ'\n",
    "groups_add_url      = 'https://disk.yandex.ru/d/5Kxrz02m3IBUwQ'\n",
    "active_students_url = 'https://disk.yandex.ru/d/Tbs44Bm6H_FwFQ'\n",
    "checks_url          = 'https://disk.yandex.ru/d/pH1q-VqcxXjsVA'"
   ]
  },
  {
   "cell_type": "markdown",
   "id": "d2896a19-aa4c-4035-9d9f-83f6dd99d60f",
   "metadata": {},
   "source": [
    "Считываю значения из яндекс-диска"
   ]
  },
  {
   "cell_type": "code",
   "execution_count": 60,
   "id": "6fcbe4b3-73fa-4e74-a218-8c0c26d0bc11",
   "metadata": {},
   "outputs": [
    {
     "data": {
      "text/html": [
       "<div>\n",
       "<style scoped>\n",
       "    .dataframe tbody tr th:only-of-type {\n",
       "        vertical-align: middle;\n",
       "    }\n",
       "\n",
       "    .dataframe tbody tr th {\n",
       "        vertical-align: top;\n",
       "    }\n",
       "\n",
       "    .dataframe thead th {\n",
       "        text-align: right;\n",
       "    }\n",
       "</style>\n",
       "<table border=\"1\" class=\"dataframe\">\n",
       "  <thead>\n",
       "    <tr style=\"text-align: right;\">\n",
       "      <th></th>\n",
       "      <th>id</th>\n",
       "      <th>grp</th>\n",
       "    </tr>\n",
       "  </thead>\n",
       "  <tbody>\n",
       "    <tr>\n",
       "      <th>0</th>\n",
       "      <td>1489</td>\n",
       "      <td>B</td>\n",
       "    </tr>\n",
       "    <tr>\n",
       "      <th>1</th>\n",
       "      <td>1627</td>\n",
       "      <td>A</td>\n",
       "    </tr>\n",
       "    <tr>\n",
       "      <th>2</th>\n",
       "      <td>1768</td>\n",
       "      <td>B</td>\n",
       "    </tr>\n",
       "    <tr>\n",
       "      <th>3</th>\n",
       "      <td>1783</td>\n",
       "      <td>B</td>\n",
       "    </tr>\n",
       "    <tr>\n",
       "      <th>4</th>\n",
       "      <td>1794</td>\n",
       "      <td>A</td>\n",
       "    </tr>\n",
       "  </tbody>\n",
       "</table>\n",
       "</div>"
      ],
      "text/plain": [
       "     id grp\n",
       "0  1489   B\n",
       "1  1627   A\n",
       "2  1768   B\n",
       "3  1783   B\n",
       "4  1794   A"
      ]
     },
     "execution_count": 60,
     "metadata": {},
     "output_type": "execute_result"
    }
   ],
   "source": [
    "base_url     = 'https://cloud-api.yandex.net/v1/disk/public/resources/download?'\n",
    "final_url    = base_url + urlencode(dict(public_key=groups_url))\n",
    "response     = requests.get(final_url)\n",
    "download_url = response.json()['href']\n",
    "groups = pd.read_csv(download_url,sep=';')\n",
    "groups.head(5)"
   ]
  },
  {
   "cell_type": "code",
   "execution_count": 61,
   "id": "25b2911d-f2ea-4941-afa8-2d74700857cf",
   "metadata": {},
   "outputs": [
    {
     "data": {
      "text/html": [
       "<div>\n",
       "<style scoped>\n",
       "    .dataframe tbody tr th:only-of-type {\n",
       "        vertical-align: middle;\n",
       "    }\n",
       "\n",
       "    .dataframe tbody tr th {\n",
       "        vertical-align: top;\n",
       "    }\n",
       "\n",
       "    .dataframe thead th {\n",
       "        text-align: right;\n",
       "    }\n",
       "</style>\n",
       "<table border=\"1\" class=\"dataframe\">\n",
       "  <thead>\n",
       "    <tr style=\"text-align: right;\">\n",
       "      <th></th>\n",
       "      <th>id</th>\n",
       "      <th>grp</th>\n",
       "    </tr>\n",
       "  </thead>\n",
       "  <tbody>\n",
       "    <tr>\n",
       "      <th>0</th>\n",
       "      <td>5694584</td>\n",
       "      <td>B</td>\n",
       "    </tr>\n",
       "    <tr>\n",
       "      <th>1</th>\n",
       "      <td>5694830</td>\n",
       "      <td>B</td>\n",
       "    </tr>\n",
       "    <tr>\n",
       "      <th>2</th>\n",
       "      <td>5695057</td>\n",
       "      <td>B</td>\n",
       "    </tr>\n",
       "    <tr>\n",
       "      <th>3</th>\n",
       "      <td>5698872</td>\n",
       "      <td>B</td>\n",
       "    </tr>\n",
       "    <tr>\n",
       "      <th>4</th>\n",
       "      <td>5699067</td>\n",
       "      <td>B</td>\n",
       "    </tr>\n",
       "  </tbody>\n",
       "</table>\n",
       "</div>"
      ],
      "text/plain": [
       "        id grp\n",
       "0  5694584   B\n",
       "1  5694830   B\n",
       "2  5695057   B\n",
       "3  5698872   B\n",
       "4  5699067   B"
      ]
     },
     "execution_count": 61,
     "metadata": {},
     "output_type": "execute_result"
    }
   ],
   "source": [
    "base_url     = 'https://cloud-api.yandex.net/v1/disk/public/resources/download?'\n",
    "final_url    = base_url + urlencode(dict(public_key=groups_add_url))\n",
    "response     = requests.get(final_url)\n",
    "download_url = response.json()['href']\n",
    "groups_add = pd.read_csv(download_url,sep=',')\n",
    "groups_add.head(5)"
   ]
  },
  {
   "cell_type": "code",
   "execution_count": 62,
   "id": "7ac01755-a574-415a-8511-476a75d83d4d",
   "metadata": {},
   "outputs": [
    {
     "data": {
      "text/html": [
       "<div>\n",
       "<style scoped>\n",
       "    .dataframe tbody tr th:only-of-type {\n",
       "        vertical-align: middle;\n",
       "    }\n",
       "\n",
       "    .dataframe tbody tr th {\n",
       "        vertical-align: top;\n",
       "    }\n",
       "\n",
       "    .dataframe thead th {\n",
       "        text-align: right;\n",
       "    }\n",
       "</style>\n",
       "<table border=\"1\" class=\"dataframe\">\n",
       "  <thead>\n",
       "    <tr style=\"text-align: right;\">\n",
       "      <th></th>\n",
       "      <th>student_id</th>\n",
       "    </tr>\n",
       "  </thead>\n",
       "  <tbody>\n",
       "    <tr>\n",
       "      <th>0</th>\n",
       "      <td>581585</td>\n",
       "    </tr>\n",
       "    <tr>\n",
       "      <th>1</th>\n",
       "      <td>5723133</td>\n",
       "    </tr>\n",
       "    <tr>\n",
       "      <th>2</th>\n",
       "      <td>3276743</td>\n",
       "    </tr>\n",
       "    <tr>\n",
       "      <th>3</th>\n",
       "      <td>4238589</td>\n",
       "    </tr>\n",
       "    <tr>\n",
       "      <th>4</th>\n",
       "      <td>4475369</td>\n",
       "    </tr>\n",
       "  </tbody>\n",
       "</table>\n",
       "</div>"
      ],
      "text/plain": [
       "   student_id\n",
       "0      581585\n",
       "1     5723133\n",
       "2     3276743\n",
       "3     4238589\n",
       "4     4475369"
      ]
     },
     "execution_count": 62,
     "metadata": {},
     "output_type": "execute_result"
    }
   ],
   "source": [
    "base_url     = 'https://cloud-api.yandex.net/v1/disk/public/resources/download?'\n",
    "final_url    = base_url + urlencode(dict(public_key=active_students_url))\n",
    "response     = requests.get(final_url)\n",
    "download_url = response.json()['href']\n",
    "active_studs = pd.read_csv(download_url,sep=',')\n",
    "active_studs.head(5)"
   ]
  },
  {
   "cell_type": "code",
   "execution_count": 63,
   "id": "3ffff6a3-a19d-4729-8475-883da561c9bd",
   "metadata": {},
   "outputs": [
    {
     "data": {
      "text/html": [
       "<div>\n",
       "<style scoped>\n",
       "    .dataframe tbody tr th:only-of-type {\n",
       "        vertical-align: middle;\n",
       "    }\n",
       "\n",
       "    .dataframe tbody tr th {\n",
       "        vertical-align: top;\n",
       "    }\n",
       "\n",
       "    .dataframe thead th {\n",
       "        text-align: right;\n",
       "    }\n",
       "</style>\n",
       "<table border=\"1\" class=\"dataframe\">\n",
       "  <thead>\n",
       "    <tr style=\"text-align: right;\">\n",
       "      <th></th>\n",
       "      <th>student_id</th>\n",
       "      <th>rev</th>\n",
       "    </tr>\n",
       "  </thead>\n",
       "  <tbody>\n",
       "    <tr>\n",
       "      <th>0</th>\n",
       "      <td>1627</td>\n",
       "      <td>990.0</td>\n",
       "    </tr>\n",
       "    <tr>\n",
       "      <th>1</th>\n",
       "      <td>3185</td>\n",
       "      <td>690.0</td>\n",
       "    </tr>\n",
       "    <tr>\n",
       "      <th>2</th>\n",
       "      <td>25973</td>\n",
       "      <td>690.0</td>\n",
       "    </tr>\n",
       "    <tr>\n",
       "      <th>3</th>\n",
       "      <td>26280</td>\n",
       "      <td>690.0</td>\n",
       "    </tr>\n",
       "    <tr>\n",
       "      <th>4</th>\n",
       "      <td>100300</td>\n",
       "      <td>990.0</td>\n",
       "    </tr>\n",
       "  </tbody>\n",
       "</table>\n",
       "</div>"
      ],
      "text/plain": [
       "   student_id    rev\n",
       "0        1627  990.0\n",
       "1        3185  690.0\n",
       "2       25973  690.0\n",
       "3       26280  690.0\n",
       "4      100300  990.0"
      ]
     },
     "execution_count": 63,
     "metadata": {},
     "output_type": "execute_result"
    }
   ],
   "source": [
    "base_url     = 'https://cloud-api.yandex.net/v1/disk/public/resources/download?'\n",
    "final_url    = base_url + urlencode(dict(public_key=checks_url))\n",
    "response     = requests.get(final_url)\n",
    "download_url = response.json()['href']\n",
    "checks = pd.read_csv(download_url,sep=';')\n",
    "checks.head(5)"
   ]
  },
  {
   "cell_type": "markdown",
   "id": "9d368749-1f9d-4a05-8feb-9302b2d845b9",
   "metadata": {},
   "source": [
    "Информация о файлах\n",
    "\n",
    "groups.csv – файл с информацией о принадлежности пользователя к контрольной или экспериментальной группе (А – контроль, B – целевая группа) \n",
    "\n",
    "groups_add.csv – дополнительный файл с пользователями, который вам прислали спустя 2 дня после передачи данных\n",
    "\n",
    "active_studs.csv – файл с информацией о пользователях, которые зашли на платформу в дни проведения эксперимента. \n",
    "\n",
    "checks.csv – файл с информацией об оплатах пользователей в дни проведения эксперимента. "
   ]
  },
  {
   "cell_type": "markdown",
   "id": "ddd5751f-1f4b-44a5-a966-9f2ee41f1365",
   "metadata": {},
   "source": [
    "Провожу проверку типов данных и заполненность таблиц\n",
    "\n",
    "Удаляю дубликаты в данных"
   ]
  },
  {
   "cell_type": "code",
   "execution_count": 66,
   "id": "2c20b49f-079d-47b0-a969-5ff4903d92e4",
   "metadata": {},
   "outputs": [
    {
     "data": {
      "text/html": [
       "<div>\n",
       "<style scoped>\n",
       "    .dataframe tbody tr th:only-of-type {\n",
       "        vertical-align: middle;\n",
       "    }\n",
       "\n",
       "    .dataframe tbody tr th {\n",
       "        vertical-align: top;\n",
       "    }\n",
       "\n",
       "    .dataframe thead th {\n",
       "        text-align: right;\n",
       "    }\n",
       "</style>\n",
       "<table border=\"1\" class=\"dataframe\">\n",
       "  <thead>\n",
       "    <tr style=\"text-align: right;\">\n",
       "      <th></th>\n",
       "      <th>id</th>\n",
       "      <th>grp</th>\n",
       "    </tr>\n",
       "  </thead>\n",
       "  <tbody>\n",
       "    <tr>\n",
       "      <th>0</th>\n",
       "      <td>1489</td>\n",
       "      <td>B</td>\n",
       "    </tr>\n",
       "    <tr>\n",
       "      <th>1</th>\n",
       "      <td>1627</td>\n",
       "      <td>A</td>\n",
       "    </tr>\n",
       "    <tr>\n",
       "      <th>2</th>\n",
       "      <td>1768</td>\n",
       "      <td>B</td>\n",
       "    </tr>\n",
       "    <tr>\n",
       "      <th>3</th>\n",
       "      <td>1783</td>\n",
       "      <td>B</td>\n",
       "    </tr>\n",
       "    <tr>\n",
       "      <th>4</th>\n",
       "      <td>1794</td>\n",
       "      <td>A</td>\n",
       "    </tr>\n",
       "  </tbody>\n",
       "</table>\n",
       "</div>"
      ],
      "text/plain": [
       "     id grp\n",
       "0  1489   B\n",
       "1  1627   A\n",
       "2  1768   B\n",
       "3  1783   B\n",
       "4  1794   A"
      ]
     },
     "execution_count": 66,
     "metadata": {},
     "output_type": "execute_result"
    }
   ],
   "source": [
    "groups.head(5)"
   ]
  },
  {
   "cell_type": "code",
   "execution_count": 67,
   "id": "269e0257-f752-4f23-a0fd-ec7c6401dd27",
   "metadata": {},
   "outputs": [
    {
     "name": "stdout",
     "output_type": "stream",
     "text": [
      "<class 'pandas.core.frame.DataFrame'>\n",
      "RangeIndex: 74484 entries, 0 to 74483\n",
      "Data columns (total 2 columns):\n",
      " #   Column  Non-Null Count  Dtype \n",
      "---  ------  --------------  ----- \n",
      " 0   id      74484 non-null  int64 \n",
      " 1   grp     74484 non-null  object\n",
      "dtypes: int64(1), object(1)\n",
      "memory usage: 1.1+ MB\n"
     ]
    }
   ],
   "source": [
    "groups=groups.drop_duplicates()\n",
    "groups.info()"
   ]
  },
  {
   "cell_type": "code",
   "execution_count": 68,
   "id": "eb2ec9b3-10b3-4cf0-9765-213f0000f764",
   "metadata": {},
   "outputs": [
    {
     "data": {
      "text/html": [
       "<div>\n",
       "<style scoped>\n",
       "    .dataframe tbody tr th:only-of-type {\n",
       "        vertical-align: middle;\n",
       "    }\n",
       "\n",
       "    .dataframe tbody tr th {\n",
       "        vertical-align: top;\n",
       "    }\n",
       "\n",
       "    .dataframe thead th {\n",
       "        text-align: right;\n",
       "    }\n",
       "</style>\n",
       "<table border=\"1\" class=\"dataframe\">\n",
       "  <thead>\n",
       "    <tr style=\"text-align: right;\">\n",
       "      <th></th>\n",
       "      <th>id</th>\n",
       "      <th>grp</th>\n",
       "    </tr>\n",
       "  </thead>\n",
       "  <tbody>\n",
       "    <tr>\n",
       "      <th>0</th>\n",
       "      <td>5694584</td>\n",
       "      <td>B</td>\n",
       "    </tr>\n",
       "    <tr>\n",
       "      <th>1</th>\n",
       "      <td>5694830</td>\n",
       "      <td>B</td>\n",
       "    </tr>\n",
       "    <tr>\n",
       "      <th>2</th>\n",
       "      <td>5695057</td>\n",
       "      <td>B</td>\n",
       "    </tr>\n",
       "    <tr>\n",
       "      <th>3</th>\n",
       "      <td>5698872</td>\n",
       "      <td>B</td>\n",
       "    </tr>\n",
       "    <tr>\n",
       "      <th>4</th>\n",
       "      <td>5699067</td>\n",
       "      <td>B</td>\n",
       "    </tr>\n",
       "  </tbody>\n",
       "</table>\n",
       "</div>"
      ],
      "text/plain": [
       "        id grp\n",
       "0  5694584   B\n",
       "1  5694830   B\n",
       "2  5695057   B\n",
       "3  5698872   B\n",
       "4  5699067   B"
      ]
     },
     "execution_count": 68,
     "metadata": {},
     "output_type": "execute_result"
    }
   ],
   "source": [
    "groups_add.head(5)"
   ]
  },
  {
   "cell_type": "code",
   "execution_count": 69,
   "id": "19f9ff07-ecec-4d9c-b9bc-bfc7147a7bd5",
   "metadata": {},
   "outputs": [
    {
     "name": "stdout",
     "output_type": "stream",
     "text": [
      "<class 'pandas.core.frame.DataFrame'>\n",
      "RangeIndex: 92 entries, 0 to 91\n",
      "Data columns (total 2 columns):\n",
      " #   Column  Non-Null Count  Dtype \n",
      "---  ------  --------------  ----- \n",
      " 0   id      92 non-null     int64 \n",
      " 1   grp     92 non-null     object\n",
      "dtypes: int64(1), object(1)\n",
      "memory usage: 1.6+ KB\n"
     ]
    }
   ],
   "source": [
    "groups_add=groups_add.drop_duplicates()\n",
    "groups_add.info()"
   ]
  },
  {
   "cell_type": "code",
   "execution_count": 70,
   "id": "321d2de2-956c-4a07-afa5-4c1e229cfdf7",
   "metadata": {},
   "outputs": [
    {
     "data": {
      "text/html": [
       "<div>\n",
       "<style scoped>\n",
       "    .dataframe tbody tr th:only-of-type {\n",
       "        vertical-align: middle;\n",
       "    }\n",
       "\n",
       "    .dataframe tbody tr th {\n",
       "        vertical-align: top;\n",
       "    }\n",
       "\n",
       "    .dataframe thead th {\n",
       "        text-align: right;\n",
       "    }\n",
       "</style>\n",
       "<table border=\"1\" class=\"dataframe\">\n",
       "  <thead>\n",
       "    <tr style=\"text-align: right;\">\n",
       "      <th></th>\n",
       "      <th>student_id</th>\n",
       "    </tr>\n",
       "  </thead>\n",
       "  <tbody>\n",
       "    <tr>\n",
       "      <th>0</th>\n",
       "      <td>581585</td>\n",
       "    </tr>\n",
       "    <tr>\n",
       "      <th>1</th>\n",
       "      <td>5723133</td>\n",
       "    </tr>\n",
       "    <tr>\n",
       "      <th>2</th>\n",
       "      <td>3276743</td>\n",
       "    </tr>\n",
       "    <tr>\n",
       "      <th>3</th>\n",
       "      <td>4238589</td>\n",
       "    </tr>\n",
       "    <tr>\n",
       "      <th>4</th>\n",
       "      <td>4475369</td>\n",
       "    </tr>\n",
       "  </tbody>\n",
       "</table>\n",
       "</div>"
      ],
      "text/plain": [
       "   student_id\n",
       "0      581585\n",
       "1     5723133\n",
       "2     3276743\n",
       "3     4238589\n",
       "4     4475369"
      ]
     },
     "execution_count": 70,
     "metadata": {},
     "output_type": "execute_result"
    }
   ],
   "source": [
    "active_studs.head()"
   ]
  },
  {
   "cell_type": "code",
   "execution_count": 71,
   "id": "8f344481-5b0b-44a8-80df-865c42d85a11",
   "metadata": {},
   "outputs": [
    {
     "name": "stdout",
     "output_type": "stream",
     "text": [
      "<class 'pandas.core.frame.DataFrame'>\n",
      "RangeIndex: 8341 entries, 0 to 8340\n",
      "Data columns (total 1 columns):\n",
      " #   Column      Non-Null Count  Dtype\n",
      "---  ------      --------------  -----\n",
      " 0   student_id  8341 non-null   int64\n",
      "dtypes: int64(1)\n",
      "memory usage: 65.3 KB\n"
     ]
    }
   ],
   "source": [
    "active_studs=active_studs.drop_duplicates()\n",
    "active_studs.info()"
   ]
  },
  {
   "cell_type": "code",
   "execution_count": 72,
   "id": "eb6bd485-fbb9-402f-8268-668be3c04808",
   "metadata": {},
   "outputs": [
    {
     "data": {
      "text/html": [
       "<div>\n",
       "<style scoped>\n",
       "    .dataframe tbody tr th:only-of-type {\n",
       "        vertical-align: middle;\n",
       "    }\n",
       "\n",
       "    .dataframe tbody tr th {\n",
       "        vertical-align: top;\n",
       "    }\n",
       "\n",
       "    .dataframe thead th {\n",
       "        text-align: right;\n",
       "    }\n",
       "</style>\n",
       "<table border=\"1\" class=\"dataframe\">\n",
       "  <thead>\n",
       "    <tr style=\"text-align: right;\">\n",
       "      <th></th>\n",
       "      <th>student_id</th>\n",
       "      <th>rev</th>\n",
       "    </tr>\n",
       "  </thead>\n",
       "  <tbody>\n",
       "    <tr>\n",
       "      <th>0</th>\n",
       "      <td>1627</td>\n",
       "      <td>990.0</td>\n",
       "    </tr>\n",
       "    <tr>\n",
       "      <th>1</th>\n",
       "      <td>3185</td>\n",
       "      <td>690.0</td>\n",
       "    </tr>\n",
       "    <tr>\n",
       "      <th>2</th>\n",
       "      <td>25973</td>\n",
       "      <td>690.0</td>\n",
       "    </tr>\n",
       "    <tr>\n",
       "      <th>3</th>\n",
       "      <td>26280</td>\n",
       "      <td>690.0</td>\n",
       "    </tr>\n",
       "    <tr>\n",
       "      <th>4</th>\n",
       "      <td>100300</td>\n",
       "      <td>990.0</td>\n",
       "    </tr>\n",
       "  </tbody>\n",
       "</table>\n",
       "</div>"
      ],
      "text/plain": [
       "   student_id    rev\n",
       "0        1627  990.0\n",
       "1        3185  690.0\n",
       "2       25973  690.0\n",
       "3       26280  690.0\n",
       "4      100300  990.0"
      ]
     },
     "execution_count": 72,
     "metadata": {},
     "output_type": "execute_result"
    }
   ],
   "source": [
    "checks.head(5)"
   ]
  },
  {
   "cell_type": "code",
   "execution_count": 74,
   "id": "65075c76-68d0-42e4-8530-c37c02a3665f",
   "metadata": {},
   "outputs": [
    {
     "name": "stdout",
     "output_type": "stream",
     "text": [
      "<class 'pandas.core.frame.DataFrame'>\n",
      "RangeIndex: 541 entries, 0 to 540\n",
      "Data columns (total 2 columns):\n",
      " #   Column      Non-Null Count  Dtype  \n",
      "---  ------      --------------  -----  \n",
      " 0   student_id  541 non-null    int64  \n",
      " 1   rev         541 non-null    float64\n",
      "dtypes: float64(1), int64(1)\n",
      "memory usage: 8.6 KB\n"
     ]
    }
   ],
   "source": [
    "checks=checks.drop_duplicates()\n",
    "checks.info()"
   ]
  },
  {
   "cell_type": "markdown",
   "id": "f392ba42-dfea-4f15-8b74-a8d70b67ce0d",
   "metadata": {},
   "source": [
    "Исходя из анализа данных выше, делаю вывод о том, что отсутствуют пропуски в данных, тип данных не требует изменений"
   ]
  },
  {
   "cell_type": "markdown",
   "id": "a6fd3c8e-0824-4b69-a68e-9916f9974ba0",
   "metadata": {},
   "source": [
    "Произвожу соединение таблиц groups и groups_add в DF all_groups"
   ]
  },
  {
   "cell_type": "markdown",
   "id": "33be4d58-0ac3-4e30-b41b-51fc75cd84dc",
   "metadata": {},
   "source": [
    "Произвожу проверку на баги в данных\n",
    "1. Наличие покупок при нулевой активности.<br>\n",
    "   Для этого к таблице с чеками джойним таблицу с активностями и проверяем на пропуски. Пропуски дожны отсутствовать\n",
    "2. Проверим отсутствие подозрительной активности-аномального числа покупок,аномальной суммы чеков"
   ]
  },
  {
   "cell_type": "code",
   "execution_count": 89,
   "id": "3d413604-c10b-419b-b6c7-b82460c24a03",
   "metadata": {},
   "outputs": [
    {
     "data": {
      "text/plain": [
       "student_id    0\n",
       "rev           0\n",
       "dtype: int64"
      ]
     },
     "execution_count": 89,
     "metadata": {},
     "output_type": "execute_result"
    }
   ],
   "source": [
    "pd.merge(checks,active_studs,how='left',left_on='student_id', right_on='student_id').isnull().sum()#пропуски отсутствуют,багов нет"
   ]
  },
  {
   "cell_type": "code",
   "execution_count": 91,
   "id": "e54cd3a9-2190-4fbc-9346-1b06d1003d26",
   "metadata": {},
   "outputs": [
    {
     "data": {
      "text/html": [
       "<div>\n",
       "<style scoped>\n",
       "    .dataframe tbody tr th:only-of-type {\n",
       "        vertical-align: middle;\n",
       "    }\n",
       "\n",
       "    .dataframe tbody tr th {\n",
       "        vertical-align: top;\n",
       "    }\n",
       "\n",
       "    .dataframe thead th {\n",
       "        text-align: right;\n",
       "    }\n",
       "</style>\n",
       "<table border=\"1\" class=\"dataframe\">\n",
       "  <thead>\n",
       "    <tr style=\"text-align: right;\">\n",
       "      <th></th>\n",
       "      <th>student_id</th>\n",
       "      <th>COUNT</th>\n",
       "      <th>SUM</th>\n",
       "    </tr>\n",
       "  </thead>\n",
       "  <tbody>\n",
       "    <tr>\n",
       "      <th>0</th>\n",
       "      <td>1627</td>\n",
       "      <td>1</td>\n",
       "      <td>990.0</td>\n",
       "    </tr>\n",
       "    <tr>\n",
       "      <th>1</th>\n",
       "      <td>3185</td>\n",
       "      <td>1</td>\n",
       "      <td>690.0</td>\n",
       "    </tr>\n",
       "    <tr>\n",
       "      <th>2</th>\n",
       "      <td>25973</td>\n",
       "      <td>1</td>\n",
       "      <td>690.0</td>\n",
       "    </tr>\n",
       "    <tr>\n",
       "      <th>3</th>\n",
       "      <td>26280</td>\n",
       "      <td>1</td>\n",
       "      <td>690.0</td>\n",
       "    </tr>\n",
       "    <tr>\n",
       "      <th>4</th>\n",
       "      <td>100300</td>\n",
       "      <td>1</td>\n",
       "      <td>990.0</td>\n",
       "    </tr>\n",
       "  </tbody>\n",
       "</table>\n",
       "</div>"
      ],
      "text/plain": [
       "   student_id  COUNT    SUM\n",
       "0        1627      1  990.0\n",
       "1        3185      1  690.0\n",
       "2       25973      1  690.0\n",
       "3       26280      1  690.0\n",
       "4      100300      1  990.0"
      ]
     },
     "execution_count": 91,
     "metadata": {},
     "output_type": "execute_result"
    }
   ],
   "source": [
    "check_control=checks.groupby('student_id',as_index=False).agg({'rev':['count','sum']})\n",
    "check_control.columns=['student_id','COUNT','SUM']\n",
    "check_control.head(5)\n"
   ]
  },
  {
   "cell_type": "code",
   "execution_count": 93,
   "id": "17b8d80f-1034-46c7-90c1-098036390f2c",
   "metadata": {},
   "outputs": [
    {
     "data": {
      "text/plain": [
       "<Axes: xlabel='student_id', ylabel='SUM'>"
      ]
     },
     "execution_count": 93,
     "metadata": {},
     "output_type": "execute_result"
    },
    {
     "data": {
      "image/png": "[encoded data removed]",
      "text/plain": [
       "<Figure size 640x480 with 1 Axes>"
      ]
     },
     "metadata": {},
     "output_type": "display_data"
    }
   ],
   "source": [
    "sns.scatterplot(data=check_control, y='SUM',x='student_id')#График 1 Анализ распределения суммы чека"
   ]
  },
  {
   "cell_type": "code",
   "execution_count": 95,
   "id": "157b96e7-e363-4987-a22f-c0a0baa6e9b7",
   "metadata": {},
   "outputs": [
    {
     "data": {
      "text/plain": [
       "<Axes: ylabel='SUM'>"
      ]
     },
     "execution_count": 95,
     "metadata": {},
     "output_type": "execute_result"
    },
    {
     "data": {
      "image/png": "[encoded data removed]",
      "text/plain": [
       "<Figure size 640x480 with 1 Axes>"
      ]
     },
     "metadata": {},
     "output_type": "display_data"
    }
   ],
   "source": [
    "sns.boxplot(data=check_control, y='SUM')#График 2 Анализ распределения суммы чека"
   ]
  },
  {
   "cell_type": "code",
   "execution_count": 97,
   "id": "00453925-4802-4d02-8cc8-e9a86e997b54",
   "metadata": {},
   "outputs": [
    {
     "data": {
      "text/plain": [
       "<Axes: xlabel='student_id', ylabel='COUNT'>"
      ]
     },
     "execution_count": 97,
     "metadata": {},
     "output_type": "execute_result"
    },
    {
     "data": {
      "image/png": "[encoded data removed]",
      "text/plain": [
       "<Figure size 640x480 with 1 Axes>"
      ]
     },
     "metadata": {},
     "output_type": "display_data"
    }
   ],
   "source": [
    "sns.scatterplot(data=check_control, y='COUNT',x='student_id')#График 3 Анализ распределения количества покупок"
   ]
  },
  {
   "cell_type": "code",
   "execution_count": 99,
   "id": "70d10b59-dd0a-442f-8305-42eb414961d9",
   "metadata": {},
   "outputs": [
    {
     "data": {
      "text/html": [
       "<div>\n",
       "<style scoped>\n",
       "    .dataframe tbody tr th:only-of-type {\n",
       "        vertical-align: middle;\n",
       "    }\n",
       "\n",
       "    .dataframe tbody tr th {\n",
       "        vertical-align: top;\n",
       "    }\n",
       "\n",
       "    .dataframe thead th {\n",
       "        text-align: right;\n",
       "    }\n",
       "</style>\n",
       "<table border=\"1\" class=\"dataframe\">\n",
       "  <thead>\n",
       "    <tr style=\"text-align: right;\">\n",
       "      <th></th>\n",
       "      <th>student_id</th>\n",
       "      <th>COUNT</th>\n",
       "      <th>SUM</th>\n",
       "    </tr>\n",
       "  </thead>\n",
       "  <tbody>\n",
       "    <tr>\n",
       "      <th>231</th>\n",
       "      <td>1711305</td>\n",
       "      <td>1</td>\n",
       "      <td>4650.0</td>\n",
       "    </tr>\n",
       "  </tbody>\n",
       "</table>\n",
       "</div>"
      ],
      "text/plain": [
       "     student_id  COUNT     SUM\n",
       "231     1711305      1  4650.0"
      ]
     },
     "execution_count": 99,
     "metadata": {},
     "output_type": "execute_result"
    }
   ],
   "source": [
    "check_control.query('SUM>4000')"
   ]
  },
  {
   "cell_type": "markdown",
   "id": "93655e8b-e3fd-4e08-9166-cc191752f7c9",
   "metadata": {},
   "source": [
    "Отсутствую признаки аномального количества покупок, и суммы чека. Так же отсутствует логическая противоречивость в данных.\n",
    "Присутствует выброс суммы покупки для студента с id 1711305. Требуется дополнительный анализ по чеку данного клиента. В рамках текущего анализа и данных не производится. "
   ]
  },
  {
   "cell_type": "code",
   "execution_count": 102,
   "id": "ab43290f-ea2e-4ddd-92b2-4dd4e1810fa9",
   "metadata": {},
   "outputs": [
    {
     "data": {
      "text/html": [
       "<div>\n",
       "<style scoped>\n",
       "    .dataframe tbody tr th:only-of-type {\n",
       "        vertical-align: middle;\n",
       "    }\n",
       "\n",
       "    .dataframe tbody tr th {\n",
       "        vertical-align: top;\n",
       "    }\n",
       "\n",
       "    .dataframe thead th {\n",
       "        text-align: right;\n",
       "    }\n",
       "</style>\n",
       "<table border=\"1\" class=\"dataframe\">\n",
       "  <thead>\n",
       "    <tr style=\"text-align: right;\">\n",
       "      <th></th>\n",
       "      <th>id</th>\n",
       "      <th>grp</th>\n",
       "    </tr>\n",
       "  </thead>\n",
       "  <tbody>\n",
       "    <tr>\n",
       "      <th>0</th>\n",
       "      <td>1489</td>\n",
       "      <td>B</td>\n",
       "    </tr>\n",
       "    <tr>\n",
       "      <th>1</th>\n",
       "      <td>1627</td>\n",
       "      <td>A</td>\n",
       "    </tr>\n",
       "    <tr>\n",
       "      <th>2</th>\n",
       "      <td>1768</td>\n",
       "      <td>B</td>\n",
       "    </tr>\n",
       "    <tr>\n",
       "      <th>3</th>\n",
       "      <td>1783</td>\n",
       "      <td>B</td>\n",
       "    </tr>\n",
       "    <tr>\n",
       "      <th>4</th>\n",
       "      <td>1794</td>\n",
       "      <td>A</td>\n",
       "    </tr>\n",
       "  </tbody>\n",
       "</table>\n",
       "</div>"
      ],
      "text/plain": [
       "     id grp\n",
       "0  1489   B\n",
       "1  1627   A\n",
       "2  1768   B\n",
       "3  1783   B\n",
       "4  1794   A"
      ]
     },
     "execution_count": 102,
     "metadata": {},
     "output_type": "execute_result"
    }
   ],
   "source": [
    "all_groups=pd.concat([groups,groups_add],ignore_index=True).drop_duplicates() \n",
    "all_groups.head(5)"
   ]
  },
  {
   "cell_type": "markdown",
   "id": "41c2779b-8bba-4f7e-9529-ec7b0bcf6592",
   "metadata": {},
   "source": [
    "Для оценки новой системы оплаты выберу следующие метрики:\n",
    "1. Конверсия в оплату CR: отношение посетивших сайт к числу совершивших покупку\n",
    "2. Средний чек покупки AOV:  = общая выручка за период / количество продаж за тот же период.\n",
    "\n",
    "Данные метрики требуется рсчитать для двух групп: А, В"
   ]
  },
  {
   "cell_type": "markdown",
   "id": "9eb80e18-3c7a-4522-a95c-4f14274fb5f5",
   "metadata": {},
   "source": [
    "Определяю активных пользователей за время теста activ_group\n"
   ]
  },
  {
   "cell_type": "code",
   "execution_count": 106,
   "id": "a25a441f-aab2-4517-8f4b-2f19b824f7d2",
   "metadata": {},
   "outputs": [],
   "source": [
    "activ_group=pd.merge(active_studs,all_groups,how='left', left_on='student_id', right_on='id')"
   ]
  },
  {
   "cell_type": "code",
   "execution_count": 108,
   "id": "b9cbd137-2f9e-4ef6-974e-e2ba2c561260",
   "metadata": {},
   "outputs": [],
   "source": [
    "activ_group=activ_group.drop('student_id',axis=1).drop_duplicates()"
   ]
  },
  {
   "cell_type": "code",
   "execution_count": 110,
   "id": "c08ebf80-ae7a-4b3e-a293-f6799bf313bb",
   "metadata": {},
   "outputs": [
    {
     "data": {
      "text/html": [
       "<div>\n",
       "<style scoped>\n",
       "    .dataframe tbody tr th:only-of-type {\n",
       "        vertical-align: middle;\n",
       "    }\n",
       "\n",
       "    .dataframe tbody tr th {\n",
       "        vertical-align: top;\n",
       "    }\n",
       "\n",
       "    .dataframe thead th {\n",
       "        text-align: right;\n",
       "    }\n",
       "</style>\n",
       "<table border=\"1\" class=\"dataframe\">\n",
       "  <thead>\n",
       "    <tr style=\"text-align: right;\">\n",
       "      <th></th>\n",
       "      <th>id</th>\n",
       "      <th>grp</th>\n",
       "    </tr>\n",
       "  </thead>\n",
       "  <tbody>\n",
       "    <tr>\n",
       "      <th>0</th>\n",
       "      <td>581585</td>\n",
       "      <td>A</td>\n",
       "    </tr>\n",
       "    <tr>\n",
       "      <th>1</th>\n",
       "      <td>5723133</td>\n",
       "      <td>A</td>\n",
       "    </tr>\n",
       "    <tr>\n",
       "      <th>2</th>\n",
       "      <td>3276743</td>\n",
       "      <td>B</td>\n",
       "    </tr>\n",
       "    <tr>\n",
       "      <th>3</th>\n",
       "      <td>4238589</td>\n",
       "      <td>A</td>\n",
       "    </tr>\n",
       "    <tr>\n",
       "      <th>4</th>\n",
       "      <td>4475369</td>\n",
       "      <td>B</td>\n",
       "    </tr>\n",
       "  </tbody>\n",
       "</table>\n",
       "</div>"
      ],
      "text/plain": [
       "        id grp\n",
       "0   581585   A\n",
       "1  5723133   A\n",
       "2  3276743   B\n",
       "3  4238589   A\n",
       "4  4475369   B"
      ]
     },
     "execution_count": 110,
     "metadata": {},
     "output_type": "execute_result"
    }
   ],
   "source": [
    "activ_group.head(5)"
   ]
  },
  {
   "cell_type": "markdown",
   "id": "fbb03f15-75b9-45a2-84f9-65c77a14c650",
   "metadata": {},
   "source": [
    "Определяю пользователей, совершивших покупку из активной группы:"
   ]
  },
  {
   "cell_type": "code",
   "execution_count": 113,
   "id": "aeceb794-77ea-48a7-b211-73480f35d32d",
   "metadata": {},
   "outputs": [],
   "source": [
    "group_and_check=pd.merge(activ_group,checks, how='left', left_on='id', right_on='student_id')\n",
    "group_and_check=group_and_check.drop('student_id', axis=1)\n"
   ]
  },
  {
   "cell_type": "code",
   "execution_count": 115,
   "id": "32017d76-0da0-44c2-8ee8-93e72d81e7dc",
   "metadata": {},
   "outputs": [],
   "source": [
    "group_and_check['rev']=group_and_check['rev'].fillna(0)"
   ]
  },
  {
   "cell_type": "code",
   "execution_count": 117,
   "id": "fe1b40a1-a1de-4112-a6d0-c9d254d7c534",
   "metadata": {},
   "outputs": [
    {
     "data": {
      "text/html": [
       "<div>\n",
       "<style scoped>\n",
       "    .dataframe tbody tr th:only-of-type {\n",
       "        vertical-align: middle;\n",
       "    }\n",
       "\n",
       "    .dataframe tbody tr th {\n",
       "        vertical-align: top;\n",
       "    }\n",
       "\n",
       "    .dataframe thead th {\n",
       "        text-align: right;\n",
       "    }\n",
       "</style>\n",
       "<table border=\"1\" class=\"dataframe\">\n",
       "  <thead>\n",
       "    <tr style=\"text-align: right;\">\n",
       "      <th></th>\n",
       "      <th>id</th>\n",
       "      <th>grp</th>\n",
       "      <th>rev</th>\n",
       "    </tr>\n",
       "  </thead>\n",
       "  <tbody>\n",
       "    <tr>\n",
       "      <th>0</th>\n",
       "      <td>581585</td>\n",
       "      <td>A</td>\n",
       "      <td>0.0</td>\n",
       "    </tr>\n",
       "    <tr>\n",
       "      <th>1</th>\n",
       "      <td>5723133</td>\n",
       "      <td>A</td>\n",
       "      <td>0.0</td>\n",
       "    </tr>\n",
       "    <tr>\n",
       "      <th>2</th>\n",
       "      <td>3276743</td>\n",
       "      <td>B</td>\n",
       "      <td>0.0</td>\n",
       "    </tr>\n",
       "    <tr>\n",
       "      <th>3</th>\n",
       "      <td>4238589</td>\n",
       "      <td>A</td>\n",
       "      <td>0.0</td>\n",
       "    </tr>\n",
       "    <tr>\n",
       "      <th>4</th>\n",
       "      <td>4475369</td>\n",
       "      <td>B</td>\n",
       "      <td>0.0</td>\n",
       "    </tr>\n",
       "  </tbody>\n",
       "</table>\n",
       "</div>"
      ],
      "text/plain": [
       "        id grp  rev\n",
       "0   581585   A  0.0\n",
       "1  5723133   A  0.0\n",
       "2  3276743   B  0.0\n",
       "3  4238589   A  0.0\n",
       "4  4475369   B  0.0"
      ]
     },
     "execution_count": 117,
     "metadata": {},
     "output_type": "execute_result"
    }
   ],
   "source": [
    "group_and_check.head(5)"
   ]
  },
  {
   "cell_type": "markdown",
   "id": "7823dc2c-d8c9-4a03-9407-0b233ff0e857",
   "metadata": {},
   "source": [
    "Произвожу расчет конверсии в оплату для обеих груп"
   ]
  },
  {
   "cell_type": "code",
   "execution_count": 120,
   "id": "a4b9139f-4bea-4f60-9b2c-349b6299635c",
   "metadata": {},
   "outputs": [
    {
     "name": "stdout",
     "output_type": "stream",
     "text": [
      "Конверсия в оплату группы А равна 0.051\n",
      "Конверсия в оплату группы В равна 0.046\n"
     ]
    }
   ],
   "source": [
    "CR_A=group_and_check.query('grp==\"A\"&rev!=0')['rev'].count()/group_and_check.query('grp==\"A\"')['rev'].count()\n",
    "CR_B=group_and_check.query('grp==\"B\"&rev!=0')['rev'].count()/group_and_check.query('grp==\"B\"')['rev'].count()\n",
    "print(f'Конверсия в оплату группы А равна {CR_A.round(3)}')\n",
    "print(f'Конверсия в оплату группы В равна {CR_B.round(3)}')"
   ]
  },
  {
   "cell_type": "markdown",
   "id": "1df927c0-b6c5-4bf4-bbed-93cd76623e21",
   "metadata": {},
   "source": [
    "Произвожу расчет среднего чека "
   ]
  },
  {
   "cell_type": "code",
   "execution_count": 123,
   "id": "7d92865a-8634-472a-b07b-0b2006a40f75",
   "metadata": {},
   "outputs": [
    {
     "name": "stdout",
     "output_type": "stream",
     "text": [
      "Средний чек группы А равна 933.59\n",
      "Средний чек группы В равна 1257.879\n"
     ]
    }
   ],
   "source": [
    "AOV_A=group_and_check.query('grp==\"A\"&rev!=0')['rev'].mean().round(3)\n",
    "AOV_B=group_and_check.query('grp==\"B\"&rev!=0')['rev'].mean().round(3)\n",
    "print(f'Средний чек группы А равна {AOV_A}')\n",
    "print(f'Средний чек группы В равна {AOV_B}')"
   ]
  },
  {
   "cell_type": "markdown",
   "id": "fb68d5ae-dc59-4f28-ab0b-9d3ef3b14849",
   "metadata": {},
   "source": [
    "Произвожу оценку роста среднего чека тестовой группы по сравнению с контрольной"
   ]
  },
  {
   "cell_type": "code",
   "execution_count": 126,
   "id": "e3413a3f-ad23-4fad-85a0-f18130a6746a",
   "metadata": {},
   "outputs": [
    {
     "name": "stdout",
     "output_type": "stream",
     "text": [
      "Средний чек вырос на 34.74%\n"
     ]
    }
   ],
   "source": [
    "DELTA_AOV=((AOV_B-AOV_A)*100/AOV_A).round(2)\n",
    "print(f'Средний чек вырос на {DELTA_AOV}%') "
   ]
  },
  {
   "cell_type": "markdown",
   "id": "4945e2d8-aa4f-470d-9555-92dc42b6a8e9",
   "metadata": {},
   "source": [
    "Произвожу оценку изменения CR"
   ]
  },
  {
   "cell_type": "code",
   "execution_count": 129,
   "id": "5ae1e049-4695-4259-9f66-67bd359b31a7",
   "metadata": {},
   "outputs": [
    {
     "name": "stdout",
     "output_type": "stream",
     "text": [
      "Конверсия в оплату упала на -8.99%\n"
     ]
    }
   ],
   "source": [
    "DELTA_CR=((CR_B-CR_A)*100/CR_A).round(2)\n",
    "print(f'Конверсия в оплату упала на {DELTA_CR}%')"
   ]
  },
  {
   "cell_type": "markdown",
   "id": "0eb6d263-9381-48b7-9a5b-25d19a8cdc9e",
   "metadata": {},
   "source": [
    "Конверсия в оплату CR у группы В упала, при этом средний чек вырос\n",
    "\n",
    "Построим гистограмму по размеру чека для группы А и В"
   ]
  },
  {
   "cell_type": "code",
   "execution_count": 132,
   "id": "e6a3cd5e-c8b5-42f7-890c-999edee1b8e1",
   "metadata": {},
   "outputs": [
    {
     "data": {
      "image/png": "[encoded data removed]",
      "text/plain": [
       "<Figure size 640x480 with 1 Axes>"
      ]
     },
     "metadata": {},
     "output_type": "display_data"
    }
   ],
   "source": [
    "ax=sns.histplot(data=group_and_check.query('rev!=0'), x='rev',hue='grp',bins=20)\n",
    "ax.set_xlabel('AOV')\n",
    "plt.show()"
   ]
  },
  {
   "cell_type": "markdown",
   "id": "79a742db-53bf-4c23-855f-1a71b37e57b1",
   "metadata": {},
   "source": [
    "Произведем оценку медианы для тестовой и контрольной группы графическим методом\n",
    "Из графика видно, что AOV в тестовой группе существенно вырос"
   ]
  },
  {
   "cell_type": "code",
   "execution_count": 135,
   "id": "6759c997-8702-4e2a-9ed8-366bcd1d6f5b",
   "metadata": {},
   "outputs": [
    {
     "data": {
      "image/png": "[encoded data removed]",
      "text/plain": [
       "<Figure size 640x480 with 1 Axes>"
      ]
     },
     "metadata": {},
     "output_type": "display_data"
    }
   ],
   "source": [
    "ac=sns.boxplot(data=group_and_check.query('rev!=0'), x='grp',y='rev')\n",
    "plt.ylim(0,4000)\n",
    "ac.set_ylabel('AOV')\n",
    "plt.show()"
   ]
  },
  {
   "cell_type": "markdown",
   "id": "2683df52-8a76-4bb9-8a44-c848a273115c",
   "metadata": {},
   "source": [
    "Произведем оценку статистической значимости изменений AOV \n",
    "\n",
    "Сформулируем нулевую гипотезу:\n",
    "\n",
    "Н0: Средний чек в тестовой и контрольной группе равны\n",
    "\n",
    "Альтернативная гипотеза:\n",
    "\n",
    "Н1: Средний чек в тестовой группе больше чем в контрольной\n",
    "\n",
    "Требуется произвести сравнение средних сначений.\n",
    "Произведем оценку распределения тестовой и контрольной группы (явлется ли нормальным), а так же проверим является ли дисперсии в двух группах равными"
   ]
  },
  {
   "cell_type": "code",
   "execution_count": 138,
   "id": "b4c6e902-589e-4475-a2e1-e597ae9ff129",
   "metadata": {},
   "outputs": [
    {
     "data": {
      "text/plain": [
       "LeveneResult(statistic=3.0756816999816055, pvalue=0.08025675761346926)"
      ]
     },
     "execution_count": 138,
     "metadata": {},
     "output_type": "execute_result"
    }
   ],
   "source": [
    "ss.levene(group_and_check.query('grp==\"A\"&rev!=0')['rev'],group_and_check.query('grp==\"B\"&rev!=0')['rev'])#тест Левена"
   ]
  },
  {
   "cell_type": "markdown",
   "id": "ca6311be-dd71-4f60-8207-dac7bcc0bb38",
   "metadata": {},
   "source": [
    "При проверке дисперсии тестом Левена pvalue=0.08, принимаем нулевую гипотезу о равенстве дисперсий в двух группах"
   ]
  },
  {
   "cell_type": "code",
   "execution_count": 141,
   "id": "6ec239e3-2c16-46f2-a5c0-1893da952f22",
   "metadata": {},
   "outputs": [
    {
     "data": {
      "text/plain": [
       "NormaltestResult(statistic=30.378419638487458, pvalue=2.531686880422046e-07)"
      ]
     },
     "execution_count": 141,
     "metadata": {},
     "output_type": "execute_result"
    }
   ],
   "source": [
    "ss.normaltest(group_and_check.query('grp==\"A\"&rev!=0')['rev'])#проверка распределения на нормальность контрольной группы"
   ]
  },
  {
   "cell_type": "markdown",
   "id": "4fbb6e3c-153c-4601-a878-512df0a580a7",
   "metadata": {},
   "source": [
    "Распределение AOV контрольной группы не является нормальным pvalue<0.05"
   ]
  },
  {
   "cell_type": "code",
   "execution_count": 144,
   "id": "d0567b8e-d8b4-46d9-b366-853dad6f75d2",
   "metadata": {},
   "outputs": [
    {
     "data": {
      "text/plain": [
       "NormaltestResult(statistic=6.795662714490353, pvalue=0.033445723194625424)"
      ]
     },
     "execution_count": 144,
     "metadata": {},
     "output_type": "execute_result"
    }
   ],
   "source": [
    "ss.normaltest(group_and_check.query('grp==\"B\"&rev!=0')['rev'])#проверка распределения на нормальность контрольной группы"
   ]
  },
  {
   "cell_type": "markdown",
   "id": "a0912447-a430-4a23-b22a-5d9759e98139",
   "metadata": {},
   "source": [
    "Распределение AOV тестовой группы не является нормальным pvalue<0.05\n",
    "Посчитаем размер выборки контрольной и тестовой группы"
   ]
  },
  {
   "cell_type": "code",
   "execution_count": 147,
   "id": "6138ef76-29f5-46de-83b3-8b2c29289b7f",
   "metadata": {},
   "outputs": [
    {
     "name": "stdout",
     "output_type": "stream",
     "text": [
      "Размер выборки группы А=78, Размер выборки группы B=314\n"
     ]
    }
   ],
   "source": [
    "COUNT_A=group_and_check.query('grp==\"A\"&rev!=0')['rev'].count()\n",
    "COUNT_B=group_and_check.query('grp==\"B\"&rev!=0')['rev'].count()\n",
    "print(f'Размер выборки группы А={COUNT_A}, Размер выборки группы B={COUNT_B}')"
   ]
  },
  {
   "cell_type": "markdown",
   "id": "1e3c5ae6-eef1-4bd8-86d9-f4175db33368",
   "metadata": {},
   "source": [
    "В связи с тем, что размер выборки в контрольной и тестовой группе больше 30, можно использовать Т-тест, независимо от того  \n",
    "что величины распределены не нормально. При этом дисперсия в обеих группах равна. Так как мы не знаем точно, выросла AOV или упала, применять буду двусторонний Т-тест"
   ]
  },
  {
   "cell_type": "code",
   "execution_count": 150,
   "id": "77bd9440-f40a-472f-9454-5301cb0644b7",
   "metadata": {},
   "outputs": [
    {
     "data": {
      "text/html": [
       "<div>\n",
       "<style scoped>\n",
       "    .dataframe tbody tr th:only-of-type {\n",
       "        vertical-align: middle;\n",
       "    }\n",
       "\n",
       "    .dataframe tbody tr th {\n",
       "        vertical-align: top;\n",
       "    }\n",
       "\n",
       "    .dataframe thead th {\n",
       "        text-align: right;\n",
       "    }\n",
       "</style>\n",
       "<table border=\"1\" class=\"dataframe\">\n",
       "  <thead>\n",
       "    <tr style=\"text-align: right;\">\n",
       "      <th></th>\n",
       "      <th>T</th>\n",
       "      <th>dof</th>\n",
       "      <th>alternative</th>\n",
       "      <th>p-val</th>\n",
       "      <th>CI95%</th>\n",
       "      <th>cohen-d</th>\n",
       "      <th>BF10</th>\n",
       "      <th>power</th>\n",
       "    </tr>\n",
       "  </thead>\n",
       "  <tbody>\n",
       "    <tr>\n",
       "      <th>T-test</th>\n",
       "      <td>-2.86169</td>\n",
       "      <td>106.981668</td>\n",
       "      <td>two-sided</td>\n",
       "      <td>0.00507</td>\n",
       "      <td>[-548.94, -99.64]</td>\n",
       "      <td>0.39646</td>\n",
       "      <td>6.536</td>\n",
       "      <td>0.878211</td>\n",
       "    </tr>\n",
       "  </tbody>\n",
       "</table>\n",
       "</div>"
      ],
      "text/plain": [
       "              T         dof alternative    p-val              CI95%  cohen-d  \\\n",
       "T-test -2.86169  106.981668   two-sided  0.00507  [-548.94, -99.64]  0.39646   \n",
       "\n",
       "         BF10     power  \n",
       "T-test  6.536  0.878211  "
      ]
     },
     "execution_count": 150,
     "metadata": {},
     "output_type": "execute_result"
    }
   ],
   "source": [
    "pg.ttest(group_and_check.query('grp==\"A\"&rev!=0')['rev'],group_and_check.query('grp==\"B\"&rev!=0')['rev'])"
   ]
  },
  {
   "cell_type": "markdown",
   "id": "ae48df4b-5fcf-454f-be70-1e1607e7b54a",
   "metadata": {},
   "source": [
    "При проведении Т-теста pvalue<0.05, следовательно делаем вывод о статистической значимости различий \n",
    "средних значений AOV тестовой и контрольной группы"
   ]
  },
  {
   "cell_type": "markdown",
   "id": "1c0f7b3b-278f-40ff-85be-4af8e148da6d",
   "metadata": {},
   "source": [
    "Для оценки статистической значимости разницы CR тестовой и контрольной группы \n",
    "воспользуемся критерием Критерий хи-квадрат Пирсона (также известен как χ²-тест)\n",
    "Сформулируем нулевую гипотезу:\n",
    "\n",
    "Н0: CR не зависит от группы: тестовой и контрольной\n",
    "\n",
    "Альтернативная гипотеза:\n",
    "\n",
    "Н1: CR в тестовой и контрольной группе отличаются\n",
    "\n",
    "Посчитаем частоту покупок и общее количество активных пользователей для тестовой и контрольной группы"
   ]
  },
  {
   "cell_type": "code",
   "execution_count": 154,
   "id": "814be74e-ac7a-443e-a475-cc2ab5bba659",
   "metadata": {},
   "outputs": [],
   "source": [
    "group_and_check['rev']=group_and_check['rev'].apply(lambda x: 1 if x!=0 else 0)"
   ]
  },
  {
   "cell_type": "code",
   "execution_count": 156,
   "id": "2e0c8142-644c-4ad8-92ee-90f3d7012bbc",
   "metadata": {},
   "outputs": [
    {
     "data": {
      "text/html": [
       "<div>\n",
       "<style scoped>\n",
       "    .dataframe tbody tr th:only-of-type {\n",
       "        vertical-align: middle;\n",
       "    }\n",
       "\n",
       "    .dataframe tbody tr th {\n",
       "        vertical-align: top;\n",
       "    }\n",
       "\n",
       "    .dataframe thead tr th {\n",
       "        text-align: left;\n",
       "    }\n",
       "</style>\n",
       "<table border=\"1\" class=\"dataframe\">\n",
       "  <thead>\n",
       "    <tr>\n",
       "      <th></th>\n",
       "      <th>grp</th>\n",
       "      <th colspan=\"2\" halign=\"left\">rev</th>\n",
       "    </tr>\n",
       "    <tr>\n",
       "      <th></th>\n",
       "      <th></th>\n",
       "      <th>count</th>\n",
       "      <th>sum</th>\n",
       "    </tr>\n",
       "  </thead>\n",
       "  <tbody>\n",
       "    <tr>\n",
       "      <th>0</th>\n",
       "      <td>A</td>\n",
       "      <td>1538</td>\n",
       "      <td>78</td>\n",
       "    </tr>\n",
       "    <tr>\n",
       "      <th>1</th>\n",
       "      <td>B</td>\n",
       "      <td>6803</td>\n",
       "      <td>314</td>\n",
       "    </tr>\n",
       "  </tbody>\n",
       "</table>\n",
       "</div>"
      ],
      "text/plain": [
       "  grp   rev     \n",
       "      count  sum\n",
       "0   A  1538   78\n",
       "1   B  6803  314"
      ]
     },
     "execution_count": 156,
     "metadata": {},
     "output_type": "execute_result"
    }
   ],
   "source": [
    "xi_test=group_and_check.groupby('grp',as_index=False).agg({'rev':['count','sum']})\n",
    "xi_test"
   ]
  },
  {
   "cell_type": "code",
   "execution_count": 158,
   "id": "37cb8c78-6afa-472c-ab39-1f0479f904ff",
   "metadata": {},
   "outputs": [
    {
     "data": {
      "text/html": [
       "<div>\n",
       "<style scoped>\n",
       "    .dataframe tbody tr th:only-of-type {\n",
       "        vertical-align: middle;\n",
       "    }\n",
       "\n",
       "    .dataframe tbody tr th {\n",
       "        vertical-align: top;\n",
       "    }\n",
       "\n",
       "    .dataframe thead th {\n",
       "        text-align: right;\n",
       "    }\n",
       "</style>\n",
       "<table border=\"1\" class=\"dataframe\">\n",
       "  <thead>\n",
       "    <tr style=\"text-align: right;\">\n",
       "      <th></th>\n",
       "      <th>grp</th>\n",
       "      <th>count</th>\n",
       "      <th>conv</th>\n",
       "    </tr>\n",
       "  </thead>\n",
       "  <tbody>\n",
       "    <tr>\n",
       "      <th>0</th>\n",
       "      <td>A</td>\n",
       "      <td>1538</td>\n",
       "      <td>78</td>\n",
       "    </tr>\n",
       "    <tr>\n",
       "      <th>1</th>\n",
       "      <td>B</td>\n",
       "      <td>6803</td>\n",
       "      <td>314</td>\n",
       "    </tr>\n",
       "  </tbody>\n",
       "</table>\n",
       "</div>"
      ],
      "text/plain": [
       "  grp  count  conv\n",
       "0   A   1538    78\n",
       "1   B   6803   314"
      ]
     },
     "execution_count": 158,
     "metadata": {},
     "output_type": "execute_result"
    }
   ],
   "source": [
    "xi_test.columns=['grp','count','conv']\n",
    "xi_test"
   ]
  },
  {
   "cell_type": "code",
   "execution_count": 160,
   "id": "4323216b-4e81-443e-9f2a-42e26376c5e8",
   "metadata": {},
   "outputs": [],
   "source": [
    "xi_test=xi_test.pivot_table(columns='grp')"
   ]
  },
  {
   "cell_type": "code",
   "execution_count": 162,
   "id": "2742145c-cd6f-43fc-b6ac-0247a059bc29",
   "metadata": {},
   "outputs": [
    {
     "data": {
      "text/html": [
       "<div>\n",
       "<style scoped>\n",
       "    .dataframe tbody tr th:only-of-type {\n",
       "        vertical-align: middle;\n",
       "    }\n",
       "\n",
       "    .dataframe tbody tr th {\n",
       "        vertical-align: top;\n",
       "    }\n",
       "\n",
       "    .dataframe thead th {\n",
       "        text-align: right;\n",
       "    }\n",
       "</style>\n",
       "<table border=\"1\" class=\"dataframe\">\n",
       "  <thead>\n",
       "    <tr style=\"text-align: right;\">\n",
       "      <th>grp</th>\n",
       "      <th>A</th>\n",
       "      <th>B</th>\n",
       "    </tr>\n",
       "  </thead>\n",
       "  <tbody>\n",
       "    <tr>\n",
       "      <th>conv</th>\n",
       "      <td>78.0</td>\n",
       "      <td>314.0</td>\n",
       "    </tr>\n",
       "    <tr>\n",
       "      <th>count</th>\n",
       "      <td>1538.0</td>\n",
       "      <td>6803.0</td>\n",
       "    </tr>\n",
       "  </tbody>\n",
       "</table>\n",
       "</div>"
      ],
      "text/plain": [
       "grp         A       B\n",
       "conv     78.0   314.0\n",
       "count  1538.0  6803.0"
      ]
     },
     "execution_count": 162,
     "metadata": {},
     "output_type": "execute_result"
    }
   ],
   "source": [
    "xi_test"
   ]
  },
  {
   "cell_type": "markdown",
   "id": "0ad1ea64-89b8-4a20-b657-2dd753483705",
   "metadata": {},
   "source": [
    "Проведем статистический тест"
   ]
  },
  {
   "cell_type": "code",
   "execution_count": 165,
   "id": "60da8eb4-484d-47d6-9467-fca68c3a12df",
   "metadata": {},
   "outputs": [
    {
     "data": {
      "text/plain": [
       "Chi2ContingencyResult(statistic=0.0, pvalue=1.0, dof=0, expected_freq=array([  78., 1538.]))"
      ]
     },
     "execution_count": 165,
     "metadata": {},
     "output_type": "execute_result"
    }
   ],
   "source": [
    "ss.chi2_contingency(xi_test['A'],xi_test['B'])"
   ]
  },
  {
   "cell_type": "markdown",
   "id": "be0df557-9e2e-4186-b47e-c28e39284ff2",
   "metadata": {},
   "source": [
    "В связи с тем, что pvalue=1.0 нулевая мы не можем отвергнуть нулевую гипотезу, а значит CR в контрольной и тестовой\n",
    "группе не отличаются."
   ]
  },
  {
   "cell_type": "markdown",
   "id": "6c78f073-33c0-4494-bb19-dfaba9130bc1",
   "metadata": {},
   "source": [
    "Выводы по вопросам:\n",
    "\n",
    "Вопрос: На какие метрики вы смотрите в ходе анализа и почему?\n",
    "Ответ: При производстве анализа данных я использовал следующие метрики: конверсия посещения сайта в оплату CR, средний чек AOV\n",
    "\n",
    "Вопрос: Имеются ли различия в показателях и с чем они могут быть связаны? Являются ли эти различия статистически значимыми?\n",
    "Ответ:  Средний чек AOV вырос на 34.74%. Данный рост является статистически значимым поткритерий Манна-Уитни. \n",
    "Рост среднего чека связан с удобством и безопасностью новой системы оплаты.\n",
    "Изменение CR составило -8.99%. Согласно критерия хи-квадрат Пирсона не изменения не являются статистически значимыми и связаны с размером выборки в контрольной и тестовой группе.\n",
    "\n",
    "Вопрос: Стоит ли запускать новую механику на всех пользователей?\n",
    "Ответ: Да, стоит запускать новую механику на всех пользователей. "
   ]
  },
  {
   "cell_type": "markdown",
   "id": "315f29de-71e3-4682-a08e-0f93261f05ec",
   "metadata": {},
   "source": [
    "Задание 2\n",
    "2.1 Очень усердные ученики.\n",
    "2.1.1 Условие\n",
    "Образовательные курсы состоят из различных уроков, каждый из которых состоит из нескольких маленьких заданий. Каждое такое маленькое задание называется \"горошиной\".\n",
    "Назовём очень усердным учеником того пользователя, который хотя бы раз за текущий месяц правильно решил 20 горошин."
   ]
  },
  {
   "cell_type": "markdown",
   "id": "f4e745f7-cdd8-47b0-9aae-8bd53a711866",
   "metadata": {},
   "source": [
    "\n",
    "Задание 2.2.2 Необходимо написать оптимальный запрос, который даст информацию о количестве очень усердных студентов.NB! Под усердным студентом мы понимаем студента, который правильно решил 20 задач за текущий месяц. ОТВЕТ: SELECT st_id, count(st_id) as count FROM peas where correct=true and extract(year from timest)=extract(year from now()) group by st_id having count(st_id)>=20"
   ]
  },
  {
   "cell_type": "markdown",
   "id": "5c4e0f22-b0d3-4ed3-95ae-f6328c463252",
   "metadata": {},
   "source": [
    "2.2 Оптимизация воронки\n",
    "\n",
    "2.2.1 Условие\n",
    "\n",
    "Образовательная платформа предлагает пройти студентам курсы по модели trial: студент может решить бесплатно лишь 30 горошин в день. Для неограниченного количества заданий в определенной дисциплине студенту необходимо приобрести полный доступ. Команда провела эксперимент, где был протестирован новый экран оплаты.\n",
    "Необходимо в одном запросе выгрузить следующую информацию о группах пользователей:\n",
    "\n",
    "ARPU \n",
    "ARPAU \n",
    "CR в покупку \n",
    "СR активного пользователя в покупку \n",
    "CR пользователя из активности по математике (subject = ’math’) в покупку курса по математике\n",
    "ARPU считается относительно всех пользователей, попавших в группы.\n",
    "\n",
    "Активным считается пользователь, за все время решивший больше 10 задач правильно в любых дисциплинах.\n",
    "\n",
    "Активным по математике считается пользователь, за все время решивший 2 или больше задач правильно по математике."
   ]
  },
  {
   "cell_type": "markdown",
   "id": "984dcc2f-97df-41af-a866-37d2bd973496",
   "metadata": {},
   "source": [
    "ОТВЕТ: WITH ALL_STUDENT AS ( SELECT studs.st_id, studs.test_grp, first.money, CASE WHEN first.money IS NULL THEN 0 ELSE 1 END as FOR_CR, first.subject, ( SELECT COUNT(1) FROM peas WHERE peas.st_id = studs.st_id and peas.correct = true GROUP BY peas.st_id ) as COUNT_OF_PEAS, ( SELECT COUNT(1) FROM peas WHERE peas.st_id = studs.st_id AND peas.subject = 'Math' AND peas.correct = true GROUP BY peas.st_id ) as COUNT_OF_MATH FROM final_project_check as first RIGHT JOIN studs ON studs.st_id = first.st_id ), SECOND AS (SELECT ALL_STUDENT.test_grp, SUM(ALL_STUDENT.money) / COUNT(1) as ARPU, SUM(ALL_STUDENT.money) /( SELECT COUNT(1) FROM ALL_STUDENT WHERE ALL_STUDENT.COUNT_OF_PEAS > 10 ) AS ARPAU, SUM(ALL_STUDENT.FOR_CR)::float/COUNT(1) as CR_ALL_TO_SALE FROM ALL_STUDENT GROUP BY ALL_STUDENT.test_grp),\n",
    "\n",
    "CR_ACTIVE_STUDENT AS (SELECT ALL_STUDENT.test_grp, SUM(ALL_STUDENT.for_cr)::float/COUNT(1) as CR_ACTIVE_STUDENT FROM ALL_STUDENT WHERE ALL_STUDENT.COUNT_OF_PEAS > 10 GROUP BY ALL_STUDENT.test_grp),\n",
    "\n",
    "CR_ACTIVE_STUDENT_MATH AS (SELECT\n",
    "    ALL_STUDENT.test_grp, \n",
    "    SUM(ALL_STUDENT.for_cr)::float/COUNT(1) as CR_ACTIVE_STUDENT_MATH\n",
    "  FROM\n",
    "    ALL_STUDENT \n",
    "  WHERE\n",
    "    ALL_STUDENT.count_of_math > 2\n",
    "    GROUP BY ALL_STUDENT.test_grp)\n",
    "    \n",
    "   SELECT SECOND.test_grp, SECOND.arpu,SECOND.arpau,SECOND.cr_all_to_sale,\n",
    "   CR_ACTIVE_STUDENT.CR_ACTIVE_STUDENT,\n",
    "   CR_ACTIVE_STUDENT_MATH.CR_ACTIVE_STUDENT_MATH\n",
    "    FROM SECOND JOIN CR_ACTIVE_STUDENT ON CR_ACTIVE_STUDENT.test_grp=SECOND.test_grp\n",
    "    JOIN CR_ACTIVE_STUDENT_MATH ON SECOND.test_grp=CR_ACTIVE_STUDENT_MATH.test_grp"
   ]
  },
  {
   "cell_type": "markdown",
   "id": "b03fba38-32ce-47f0-82ba-bd04890b38d9",
   "metadata": {},
   "source": [
    "Задание 3.1\n",
    "Реализуйте функцию, которая будет автоматически подгружать информацию из дополнительного файла groups_add.csv (заголовки могут отличаться) и на основании дополнительных параметров пересчитывать метрики.\n",
    "ARPU-это метрика, которая используется для измерения среднего дохода от каждого пользователя за конкретный период времени.\n",
    "ARPAU-средний платеж на всех активных пользователей. \n",
    "CR в покупку конверсия в покупку отношение общего числа пользователей к числу соверивших покупку\n",
    "Конверсия в оплату активных пользователей CR: отношение посетивших сайт к числу совершивших покупку\n",
    "Средний чек покупки AOV: = общая выручка за период / количество продаж за тот же период."
   ]
  },
  {
   "cell_type": "code",
   "execution_count": 174,
   "id": "64e59bff-c94c-44cb-b998-cef339c52d9f",
   "metadata": {},
   "outputs": [],
   "source": [
    "def add_tab(groups,groups_add):\n",
    "    df=groups\n",
    "    groups_add.columns=['id','grp']\n",
    "    df=pd.concat([df,groups_add],ignore_index=True).drop_duplicates()\n",
    "    active_studs['active']=1\n",
    "    active_studs.columns=['id','active']\n",
    "    checks.columns=['id','rev']\n",
    "    df=pd.merge(df,checks,how='left',on=['id'])\n",
    "    df=pd.merge(df,active_studs,on=['id'], how='left')\n",
    "    df=df.fillna(0)\n",
    "    #ARPU-это метрика, которая используется для измерения среднего дохода от каждого пользователя за конкретный период времени.\n",
    "    #ARPU=SUM(df['rev'])/COUNT(df['id'])\n",
    "    \n",
    "    #Условия для фильтрации\n",
    "    #Фильтры групп\n",
    "    A=df['grp']=='A'\n",
    "    B=df['grp']=='B'\n",
    "    #Фильтр активых пользователей\n",
    "    ACTIV=df['active']==1\n",
    "    #Фильтр совершивших покупку\n",
    "    REV=df['rev']!=0\n",
    "    \n",
    "    ARPU_A=df[A]['rev'].sum()/df[A]['id'].count()\n",
    "    ARPU_B=df[B]['rev'].sum()/df[B]['id'].count()\n",
    "    \n",
    "    #ARPAU-средний платеж на всех активных пользователей. Активными будем считать пользователей, которые заходили на сайт(df['active']==1)\n",
    "    ARPAU_A=df[A&ACTIV]['rev'].sum()/df[A&ACTIV]['id'].count()\n",
    "    ARPAU_B=df[B&ACTIV]['rev'].sum()/df[B&ACTIV]['id'].count()\n",
    "\n",
    "\n",
    "    #Средний чек покупки AOV: = общая выручка за период / количество продаж за тот же период.\n",
    "    AOV_A=df[A&REV]['rev'].sum()/df[A&REV]['id'].count()\n",
    "    AOV_B=df[B&REV]['rev'].sum()/df[B&REV]['id'].count()\n",
    "    \n",
    "    \n",
    "    #CR в покупку конверсия в покупку отношение общего числа пользователей к числу соверивших покупку\n",
    "    CR_A=df[A&REV]['id'].count()*100/df[A]['id'].count()\n",
    "    CR_B=df[B&REV]['id'].count()*100/df[B]['id'].count()\n",
    "    \n",
    "    \n",
    "    #Конверсия в оплату активных пользователей CRa: отношение посетивших сайт к числу совершивших покупку\n",
    "    \n",
    "    CRa_A=df[A&REV]['id'].count()*100/df[A]['active'].sum()\n",
    "    CRa_B=df[B&REV]['id'].count()*100/df[B]['active'].sum()\n",
    "    \n",
    "    print(f'Cредний доход от каждого пользователя ARPU: группа А: {ARPU_A} группа B: {ARPU_B}')\n",
    "    print(f'Cредний доход от активного пользователя ARPAU: группа А: {ARPAU_A} группа B: {ARPAU_B}')\n",
    "    print(f'Средний чек покупки AOV: группа А: {AOV_A} группа B: {AOV_B}')\n",
    "    print(f'Конверсия в покупку CR для всех пользователей: группа А: {CR_A} группа B: {CR_B}')\n",
    "    print(f'Конверсия в покупку CR для всех активных пользователей: группа А: {CRa_A} группа B: {CRa_B}')\n",
    "    df_metric={'Group': ['A', 'B'],\n",
    "            'ARPU': [ARPU_A, ARPU_B],\n",
    "            'ARPAU': [ARPAU_A, ARPAU_B],\n",
    "            'AOV': [AOV_A, AOV_B],\n",
    "            'CR': [CR_A, CR_B],\n",
    "              'CRa':[CRa_A,CRa_B]} \n",
    "    df_metr=pd.DataFrame(df_metric)\n",
    "    return df_metr\n"
   ]
  },
  {
   "cell_type": "code",
   "execution_count": 176,
   "id": "4dda0e6c-8aba-4607-a4a8-a8b6a1eea158",
   "metadata": {},
   "outputs": [
    {
     "name": "stdout",
     "output_type": "stream",
     "text": [
      "Cредний доход от каждого пользователя ARPU: группа А: 6.268018784455183 группа B: 8.03617059265568\n",
      "Cредний доход от активного пользователя ARPAU: группа А: 47.34720416124838 группа B: 58.058798103777754\n",
      "Средний чек покупки AOV: группа А: 860.7102803738318 группа B: 1108.8248930875575\n",
      "Конверсия в покупку CR для всех пользователей: группа А: 0.7282379364323147 группа B: 0.7247465891822387\n",
      "Конверсия в покупку CR для всех активных пользователей: группа А: 6.957087126137841 группа B: 6.379538438924004\n"
     ]
    },
    {
     "data": {
      "text/html": [
       "<div>\n",
       "<style scoped>\n",
       "    .dataframe tbody tr th:only-of-type {\n",
       "        vertical-align: middle;\n",
       "    }\n",
       "\n",
       "    .dataframe tbody tr th {\n",
       "        vertical-align: top;\n",
       "    }\n",
       "\n",
       "    .dataframe thead th {\n",
       "        text-align: right;\n",
       "    }\n",
       "</style>\n",
       "<table border=\"1\" class=\"dataframe\">\n",
       "  <thead>\n",
       "    <tr style=\"text-align: right;\">\n",
       "      <th></th>\n",
       "      <th>Group</th>\n",
       "      <th>ARPU</th>\n",
       "      <th>ARPAU</th>\n",
       "      <th>AOV</th>\n",
       "      <th>CR</th>\n",
       "      <th>CRa</th>\n",
       "    </tr>\n",
       "  </thead>\n",
       "  <tbody>\n",
       "    <tr>\n",
       "      <th>0</th>\n",
       "      <td>A</td>\n",
       "      <td>6.268019</td>\n",
       "      <td>47.347204</td>\n",
       "      <td>860.710280</td>\n",
       "      <td>0.728238</td>\n",
       "      <td>6.957087</td>\n",
       "    </tr>\n",
       "    <tr>\n",
       "      <th>1</th>\n",
       "      <td>B</td>\n",
       "      <td>8.036171</td>\n",
       "      <td>58.058798</td>\n",
       "      <td>1108.824893</td>\n",
       "      <td>0.724747</td>\n",
       "      <td>6.379538</td>\n",
       "    </tr>\n",
       "  </tbody>\n",
       "</table>\n",
       "</div>"
      ],
      "text/plain": [
       "  Group      ARPU      ARPAU          AOV        CR       CRa\n",
       "0     A  6.268019  47.347204   860.710280  0.728238  6.957087\n",
       "1     B  8.036171  58.058798  1108.824893  0.724747  6.379538"
      ]
     },
     "execution_count": 176,
     "metadata": {},
     "output_type": "execute_result"
    }
   ],
   "source": [
    "a=groups\n",
    "b=groups_add\n",
    "add_tab(a,b)"
   ]
  },
  {
   "cell_type": "code",
   "execution_count": 178,
   "id": "c635c605-f68c-4e78-b17d-38c5c4fb90d8",
   "metadata": {},
   "outputs": [
    {
     "name": "stdout",
     "output_type": "stream",
     "text": [
      "Cредний доход от каждого пользователя ARPU: группа А: 6.268018784455183 группа B: 8.03617059265568\n",
      "Cредний доход от активного пользователя ARPAU: группа А: 47.34720416124838 группа B: 58.058798103777754\n",
      "Средний чек покупки AOV: группа А: 860.7102803738318 группа B: 1108.8248930875575\n",
      "Конверсия в покупку CR для всех пользователей: группа А: 0.7282379364323147 группа B: 0.7247465891822387\n",
      "Конверсия в покупку CR для всех активных пользователей: группа А: 6.957087126137841 группа B: 6.379538438924004\n"
     ]
    }
   ],
   "source": [
    "df_metr=add_tab(a,b)"
   ]
  },
  {
   "cell_type": "code",
   "execution_count": 180,
   "id": "59386a3b-3411-4c13-af17-f96905d9b3a9",
   "metadata": {},
   "outputs": [],
   "source": [
    "df=df_metr"
   ]
  },
  {
   "cell_type": "code",
   "execution_count": 182,
   "id": "5ba943f7-6f0d-4028-b2c9-d398a20d903a",
   "metadata": {},
   "outputs": [],
   "source": [
    "def graf_metrics(df):\n",
    "    sns.set(style='whitegrid')\n",
    "    fig, axes = plt.subplots(1, 5, sharex=True, figsize=(15, 5))\n",
    "    plt.tight_layout()\n",
    "    fig.suptitle(f'Metrics review as of {datetime.now().strftime(\"%Y-%m-%d %H:%M\")}')\n",
    "\n",
    "    sns.barplot(ax=axes[0], y='ARPU', x='Group', data=df, hue='Group', legend=False)\n",
    "    sns.barplot(ax=axes[1], y='ARPAU', x='Group', data=df, hue='Group', legend=False)\n",
    "    sns.barplot(ax=axes[2], y='AOV', x='Group', data=df, hue='Group', legend=False)\n",
    "    sns.barplot(ax=axes[3], y='CR', x='Group', data=df, hue='Group', legend=False)\n",
    "    sns.barplot(ax=axes[4], y='CRa', x='Group', data=df, hue='Group', legend=False)"
   ]
  },
  {
   "cell_type": "code",
   "execution_count": 184,
   "id": "c612470d-d469-4e40-b81d-830561cdc170",
   "metadata": {},
   "outputs": [
    {
     "data": {
      "image/png": "[encoded data removed]",
      "text/plain": [
       "<Figure size 1500x500 with 5 Axes>"
      ]
     },
     "metadata": {},
     "output_type": "display_data"
    }
   ],
   "source": [
    "graf_metrics(df_metr)"
   ]
  },
  {
   "cell_type": "code",
   "execution_count": null,
   "id": "fe680c93-c4c3-4562-a8f1-ba227e15963a",
   "metadata": {},
   "outputs": [],
   "source": []
  }
 ],
 "metadata": {
  "kernelspec": {
   "display_name": "Python [conda env:base] *",
   "language": "python",
   "name": "conda-base-py"
  },
  "language_info": {
   "codemirror_mode": {
    "name": "ipython",
    "version": 3
   },
   "file_extension": ".py",
   "mimetype": "text/x-python",
   "name": "python",
   "nbconvert_exporter": "python",
   "pygments_lexer": "ipython3",
   "version": "3.12.7"
  }
 },
 "nbformat": 4,
 "nbformat_minor": 5
}
